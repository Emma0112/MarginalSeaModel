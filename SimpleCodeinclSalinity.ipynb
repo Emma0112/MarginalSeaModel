{
 "cells": [
  {
   "cell_type": "code",
   "execution_count": 1,
   "metadata": {},
   "outputs": [],
   "source": [
    "import numpy as np  # http://www.numpy.org\n",
    "import matplotlib.pyplot as plt   # http://matplotlib.org\n",
    "import math as M  # https://docs.python.org/2/library/math.html\n",
    "from sympy.solvers import solve\n",
    "from sympy import Symbol\n",
    "from scipy.optimize import fsolve"
   ]
  },
  {
   "cell_type": "markdown",
   "metadata": {},
   "source": [
    "# Simple model including salinity"
   ]
  },
  {
   "cell_type": "code",
   "execution_count": 2,
   "metadata": {},
   "outputs": [],
   "source": [
    "#### Constants #####\n",
    "L_x = 1000000 #zonal extent [m]\n",
    "L_y = 2000000 #meridional extent [m]\n",
    "A = L_x*L_y #surface area of interior [m^2] Note that the interior is probably smaller than this\n",
    "P = 2*L_x+2*L_y #Perimeter [m]\n",
    "\n",
    "g = 9.81 #gravitational acceleration [m/s^2]\n",
    "C_p = 3994 #specific heat capacity of sea water [J/(kg K)] source: Steffie's paper\n",
    "alpha_T = 0.2 #thermal expansion coefficient [kg m^-3 C^-1] source: Steffie's paper\n",
    "alpha_S = 0.8 #Haline expansion coefficient [kg m^-3]\n",
    "c = 0.006 #bottom slope coefficient\n",
    "s = 0.02 #average bottom slope around the perimeter of the marginal sea\n",
    "S = 35 #reference salinity [ppt]. Spall [2015]\n",
    "E = -2e-8 #constant freshwater flux [m/s]\n",
    "S_1 = 35.2 #from Lambert [g kg^-1]\n",
    "\n",
    "#### Parameters ####\n",
    "H = 1000 #sill height [m]\n",
    "f_0 = 1.2e-4 #Coriolis parameter [s^-1]\n",
    "Gamma = 20 #Restoring strength [W/(m^2 C)]\n",
    "\n",
    "L = H/s #width of sloping topography of the boundary current [m]\n",
    "T_1 = 8.87 #ingoing temperature [Celsius]\n",
    "T_A = 2.8 #Atmospheric temperature [Celsius]\n",
    "ro_0 = 1028  #density sea water [kg m^-3]. Range of 7 to 9 degrees of sea water\n",
    "#h_1 = ... #thickness upper layer [m]\n",
    "\n",
    "#### functions ####\n",
    "epsilon = c*P/L #ratio of heat fluxed into interior by eddies compared to heat flux by advection into the basin in the inflowing boundary current [-]\n",
    "mu = A*Gamma*f_0/(alpha_T*g*C_p*H**2*(T_1-T_A)) #[-]\n",
    "gamma = 8*A*ro_0*f_0*S*alpha_S*E/(g*H**2*alpha_T**2*(T_1-T_A)**2)\n"
   ]
  },
  {
   "cell_type": "code",
   "execution_count": 3,
   "metadata": {},
   "outputs": [],
   "source": [
    "############# Computation ##################\n",
    "############################################\n",
    "\n",
    "# Main equations including salinity in the equation of state\n",
    "\n",
    "def main(x): # function with seven unkowns:  T_0,  T_2,  S_0,  S_2,  V_1, T_eddy, S_eddy \n",
    "             #                              x[0], x[1], x[2], x[3], x[4],   x[5],   x[6]\n",
    "    return [P*H*x[5]-A*Gamma*(x[0]-T_A)/(ro_0*C_p),\n",
    "            P*H*x[6]+A*E*S,\n",
    "            (T_1-x[1])*x[4]*H*L-(x[0] - T_A + (P*L/A)*(T_1-T_A))*A*Gamma/(ro_0*C_p),\n",
    "            (S_1-x[3])*x[4]*H*L+E*A*S+P*L*E*S,\n",
    "            g*H/(2*ro_0*f_0*L)*(alpha_T*(T_1-x[0])-alpha_S*(S_1-x[2]))-x[4],\n",
    "            c*x[4]*(T_1-x[0])-x[5],\n",
    "            c*x[4]*(S_1-x[2])-x[6]]\n",
    "\n",
    "[T_0,T_2,S_0,S_2,V_1,T_eddy,S_eddy] = fsolve(main, [1,1,1,1,1,1,1])"
   ]
  },
  {
   "cell_type": "code",
   "execution_count": 4,
   "metadata": {},
   "outputs": [
    {
     "data": {
      "text/plain": [
       "[6.224002138509651,\n",
       " 6.458278362452684,\n",
       " 35.08894843551929,\n",
       " 35.10804930078094,\n",
       " 0.3501876723572814,\n",
       " 0.005559574995615423,\n",
       " 0.00023333333333333333]"
      ]
     },
     "execution_count": 4,
     "metadata": {},
     "output_type": "execute_result"
    }
   ],
   "source": [
    "[T_0,T_2,S_0,S_2,V_1,T_eddy,S_eddy]"
   ]
  },
  {
   "cell_type": "code",
   "execution_count": null,
   "metadata": {},
   "outputs": [],
   "source": [
    "#### Two main equations #####\n",
    "\n",
    "#Interior temperature [Celsius] -> without the effect of salinity\n",
    "T_0 = T_1 - (mu/epsilon)*(M.sqrt(1+2*epsilon/mu)-1)*(T_1 - T_A)\n",
    "Delta_T = (T_1-T_0)/(T_1-T_A)\n",
    "\n",
    "#Interior salinity [g kg^-1]\n",
    "S_0 = S_1 + 2*A*E*S*ro_0*f_0*L/(g*c*P*H**2*alpha_T*(T_1-T_0))\n",
    "#Delta_S = 0.5*(Delta_T + M.sqrt(Delta_T**2 + gamma/epsilon)) #haline mode\n",
    "#S_0 = S_1 - Delta_S*alpha_T*(T_1-T_A)/alpha_S\n"
   ]
  },
  {
   "cell_type": "code",
   "execution_count": null,
   "metadata": {},
   "outputs": [],
   "source": [
    "#### Follow up computations ####\n",
    "\n",
    "#Velocity in boundary current [m/s]\n",
    "V_1 = g*H/(2*ro_0*f_0*L)*(alpha_T*(T_1-T_0) - alpha_S*(S_1-S_0))\n",
    "\n",
    "#Outflowing salinity [g kg^-1]\n",
    "S_out = S_1 + E*A*S_0/(V_1*H*L)\n",
    "\n",
    "#Outflowing temperature [Celsius]\n",
    "T_out = A*Gamma/(ro_0*C_p*V_1*H*L)*(T_0-T_A+P*L/A*(T_1-T_A))\n",
    "\n",
    "#Densities -> not sure they are correct though..\n",
    "ro_1 = ro_0*(1-alpha_T*(T_1-T_0) + alpha_S*(S_1-S_0))\n",
    "ro_out = ro_0*(1-alpha_T*(T_out-T_0) + alpha_S*(S_out-S_0))\n",
    "\n",
    "#Downwelling/Medidional overturning strength at the sill [m^2/s]\n",
    "W = g*H**2*(ro_1 - ro_out)/(4*ro_0*f_0)"
   ]
  },
  {
   "cell_type": "code",
   "execution_count": null,
   "metadata": {},
   "outputs": [],
   "source": [
    "T_0, S_0, V_1, S_out, T_out, W"
   ]
  },
  {
   "cell_type": "code",
   "execution_count": null,
   "metadata": {},
   "outputs": [],
   "source": [
    "#Without salinity in the equation of state\n",
    "\n",
    "def main(x): # function with four unkowns: T_0, T_2, S_0, S_2 = x[0],x[1],x[2],x[3]\n",
    "    return [alpha_T*g/(2*ro_0*f_0)*(T_1-x[0])*H/L*c*(T_1-x[0])*P*H-A*Gamma*(x[0]-T_A)/(ro_0-T_A),                        \n",
    "           \n",
    "            alpha_T*g/(2*ro_0*f_0)*(T_1-x[0])*H/L*c*(S_1-x[2])*P*H+A*E*S,\n",
    "           \n",
    "            alpha_T*g/(2*ro_0*f_0)*((T_1-x[0])*H/L)*(T_1-x[1])*H*L+A*Gamma/(ro_0*C_p)*((1+P*L/A)*(T_1-T_A)-(T_1-x[0])),   \n",
    "                \n",
    "            alpha_T*g/(2*ro_0*f_0)*((T_1-x[0])*H/L)*(S_1-x[3])+E*A*S]          "
   ]
  },
  {
   "cell_type": "code",
   "execution_count": null,
   "metadata": {},
   "outputs": [],
   "source": [
    "root = fsolve(main, [1,1,1,1])\n",
    "root"
   ]
  },
  {
   "cell_type": "code",
   "execution_count": null,
   "metadata": {},
   "outputs": [],
   "source": [
    "#Without salinity in the equation of state\n",
    "\n",
    "def main(x):\n",
    "    return[-x[0] + T_1 - (mu/epsilon)*(M.sqrt(1+2*epsilon/mu)-1)*(T_1 - T_A), \n",
    "           -x[1] + S_1 - 2*A*E*S*ro_0*f_0*L/(g*c*P*H**2*alpha_T*(T_1-x[0])),\n",
    "           -x[2] + A*Gamma/(ro_0*C_p*g*H/(2*ro_0*f_0*L)*(alpha_T*(T_1-x[0]) - alpha_S*(S_1-x[1]))*H*L)*(x[0]-T_A+P*L/A*(T_1-T_A)),\n",
    "           -x[3] + S_1 + E*A*S_0/(g*H/(2*ro_0*f_0*L)*(alpha_T*(T_1-x[0]) - alpha_S*(S_1-x[1]))*H*L)]"
   ]
  },
  {
   "cell_type": "code",
   "execution_count": null,
   "metadata": {},
   "outputs": [],
   "source": [
    "root = fsolve(main, [1,1,1,1])\n",
    "root"
   ]
  },
  {
   "cell_type": "code",
   "execution_count": null,
   "metadata": {},
   "outputs": [],
   "source": [
    "#Including salinity in the equation of state\n",
    "\n",
    "def main(x):\n",
    "    return[ g*c*P*H**2*(alpha_T*(T_1-x[0])-alpha_S*(S_1-x[1]))*(T_1-x[0])/(2*ro_0*f_0*L)-A*Gamma*(x[0]-T_A)/(ro_0*C_p),\n",
    "            g*c*P*H**2*(alpha_T*(T_1-x[0])-alpha_S*(S_1-x[1]))*(S_1-x[1])/(2*ro_0*f_0*L) + A*E*S,\n",
    "            (T_1-x[2])*g*H/(2*ro_0*f_0*L)*(alpha_T*(T_1-x[0]) - alpha_S*(S_1-x[1]))*H*L - A*Gamma*(x[0]-T_A + P*L/A*(T_1-T_A))/(ro_0*C_p),\n",
    "            (S_1-x[3])*g*H/(2*ro_0*f_0*L)*(alpha_T*(T_1-x[0]) - alpha_S*(S_1-x[1]))*H*L + E*A*S + P*L*E*S]"
   ]
  },
  {
   "cell_type": "code",
   "execution_count": null,
   "metadata": {},
   "outputs": [],
   "source": [
    "root = fsolve(main, [1,1,1,1])\n",
    "root"
   ]
  },
  {
   "cell_type": "code",
   "execution_count": null,
   "metadata": {},
   "outputs": [],
   "source": []
  },
  {
   "cell_type": "code",
   "execution_count": null,
   "metadata": {},
   "outputs": [],
   "source": []
  },
  {
   "cell_type": "code",
   "execution_count": null,
   "metadata": {},
   "outputs": [],
   "source": []
  }
 ],
 "metadata": {
  "kernelspec": {
   "display_name": "Python 3",
   "language": "python",
   "name": "python3"
  },
  "language_info": {
   "codemirror_mode": {
    "name": "ipython",
    "version": 3
   },
   "file_extension": ".py",
   "mimetype": "text/x-python",
   "name": "python",
   "nbconvert_exporter": "python",
   "pygments_lexer": "ipython3",
   "version": "3.7.3"
  }
 },
 "nbformat": 4,
 "nbformat_minor": 2
}
