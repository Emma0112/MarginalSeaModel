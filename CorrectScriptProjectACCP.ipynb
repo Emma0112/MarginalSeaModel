{
 "cells": [
  {
   "cell_type": "code",
   "execution_count": 69,
   "metadata": {},
   "outputs": [],
   "source": [
    "import pandas as pd\n",
    "import numpy as np\n",
    "from scipy import stats\n",
    "import matplotlib.pyplot as plt"
   ]
  },
  {
   "cell_type": "code",
   "execution_count": 43,
   "metadata": {},
   "outputs": [],
   "source": [
    "path='/Users/s153121/Documents/UU/Atmospheric Composition and Chemical Processes/CH4 experiment/'\n",
    "df=pd.read_excel(path+'2020-11-12_Isodat_Emma-Ina.xlsx')"
   ]
  },
  {
   "cell_type": "code",
   "execution_count": 44,
   "metadata": {},
   "outputs": [],
   "source": [
    "##################### INITIALISATION #################\n",
    "######################################################\n",
    "\n",
    "#Parameters\n",
    "C_IS = -48.07         # delta_WS,IS 13C\n",
    "D_IS = -88.31         # delta_WS,IS 2H\n",
    "chi_sample = 1970.0          # [ppb] concentration International standard\n",
    "\n",
    "dD_V_ws= 60           # [ml] 2H volume working standard \n",
    "dC_V_ws = 40          # [ml] 13C volume working standard \n",
    "names =['#0 background','#1 background','#2 canal','#3 canal','#4 pond','#5 pond','#6 car','#7 sheep','#8 trash','#9 trash','#10 Ina','#11 Ina','#12 Emma','#13 Emma']\n",
    "\n",
    "# Preparation of arrays\n",
    "d13C_values = np.zeros((14,2))\n",
    "d13C_area = np.zeros((14,2))\n",
    "dD_values = np.zeros((14,2))\n",
    "dD_area = np.zeros((14,2))\n",
    "\n",
    "d13C_V = np.zeros((14))\n",
    "dD_V = np.zeros((14))\n",
    "\n",
    "d13C_WS = np.zeros((14))\n",
    "d13C_area_WS = np.zeros((14))\n",
    "dD_WS = np.zeros((14))\n",
    "dD_area_WS = np.zeros((14))\n",
    "\n",
    "d13C_IS = np.zeros((14,2))\n",
    "dD_IS = np.zeros((14,2))\n",
    "d13C_chi = np.zeros((14,2))\n",
    "dD_chi = np.zeros((14,2))\n",
    "\n",
    "# g = area all\n",
    "# d = volume\n",
    "##################### COMPUTATION #####################\n",
    "#######################################################\n",
    "\n",
    "def sample_IS(X_sample,X_WS,X_IS):                   \n",
    "    X_SampleWS = (X_sample-X_WS)/(X_WS+1000)*1000\n",
    "    X_sampleIS = X_SampleWS+X_IS+(X_SampleWS*X_IS)/1000\n",
    "    return X_sampleIS\n",
    "\n",
    "def func_chi(A_sample, A_ws, V_sample, V_ws):\n",
    "    chi = A_sample*chi_sample*V_ws/(A_ws*V_sample)\n",
    "    return chi"
   ]
  },
  {
   "cell_type": "code",
   "execution_count": 45,
   "metadata": {},
   "outputs": [],
   "source": [
    "# delta 13C values: sample and WS\n",
    "\n",
    "d13C_values[0,0] = df.loc[[269],['d 13C/12C']].values[0]\n",
    "d13C_values[0,1] = df.loc[[277],['d 13C/12C']].values[0]\n",
    "d13C_WS[0] = df.loc[[285],['d 13C/12C']].values[0]\n",
    "d13C_area[0,0] = df.loc[[269],['Area All']].values[0]\n",
    "d13C_area[0,1] = df.loc[[277],['Area All']].values[0]\n",
    "d13C_V[0] = df.loc[[269],['Comment']].values[0]\n",
    "d13C_area_WS[0] = df.loc[[285],['Area All']].values[0]\n",
    "\n",
    "d13C_values[1,0] = df.loc[[172],['d 13C/12C']].values[0]\n",
    "d13C_values[1,1] = df.loc[[180],['d 13C/12C']].values[0]\n",
    "d13C_WS[1] = df.loc[[188],['d 13C/12C']].values[0]\n",
    "d13C_area[1,0] = df.loc[[172],['Area All']].values[0]\n",
    "d13C_area[1,1] = df.loc[[180],['Area All']].values[0]\n",
    "d13C_V[1] = df.loc[[172],['Comment']].values[0]\n",
    "d13C_area_WS[1] = df.loc[[188],['Area All']].values[0]\n",
    "\n",
    "d13C_values[2,0] = df.loc[[60],['d 13C/12C']].values[0]\n",
    "d13C_values[2,1] = df.loc[[68],['d 13C/12C']].values[0]\n",
    "d13C_WS[2] = df.loc[[76],['d 13C/12C']].values[0]\n",
    "d13C_area[2,0] = df.loc[[60],['Area All']].values[0]\n",
    "d13C_area[2,1] = df.loc[[68],['Area All']].values[0]\n",
    "d13C_V[2] = df.loc[[60],['Comment']].values[0]\n",
    "d13C_area_WS[2] = df.loc[[70],['Area All']].values[0]\n",
    "\n",
    "d13C_values[3,0] = df.loc[[156],['d 13C/12C']].values[0]\n",
    "d13C_values[3,1] = df.loc[[164],['d 13C/12C']].values[0]\n",
    "d13C_WS[3] = df.loc[[148],['d 13C/12C']].values[0]\n",
    "d13C_area[3,0] = df.loc[[156],['Area All']].values[0]\n",
    "d13C_area[3,1] = df.loc[[164],['Area All']].values[0]\n",
    "d13C_V[3] = df.loc[[156],['Comment']].values[0]\n",
    "d13C_area_WS[3] = df.loc[[148],['Area All']].values[0]\n",
    "\n",
    "d13C_values[4,0] = df.loc[[212],['d 13C/12C']].values[0]\n",
    "d13C_WS[4] = df.loc[[204],['d 13C/12C']].values[0]\n",
    "d13C_area[4,0] = df.loc[[212],['Area All']].values[0]\n",
    "d13C_V[4] = df.loc[[212],['Comment']].values[0]\n",
    "d13C_area_WS[4] = df.loc[[204],['Area All']].values[0]\n",
    "#Note that there is no [4,1]\n",
    "\n",
    "d13C_values[5,0] = df.loc[[253],['d 13C/12C']].values[0]\n",
    "d13C_values[5,1] = df.loc[[261],['d 13C/12C']].values[0]\n",
    "d13C_WS[5] = df.loc[[245],['d 13C/12C']].values[0]\n",
    "d13C_area[5,0] = df.loc[[253],['Area All']].values[0]\n",
    "d13C_area[5,1] = df.loc[[261],['Area All']].values[0]\n",
    "d13C_V[5] = df.loc[[253],['Comment']].values[0]\n",
    "d13C_area_WS[5] = df.loc[[245],['Area All']].values[0]\n",
    "\n",
    "d13C_values[6,0] = df.loc[[489], ['d 13C/12C']].values[0]\n",
    "d13C_values[6,1] = df.loc[[497], ['d 13C/12C']].values[0]\n",
    "d13C_WS[6] = df.loc[[481], ['d 13C/12C']].values[0]\n",
    "d13C_area[6,0] = df.loc[[489],['Area All']].values[0]\n",
    "d13C_area[6,1] = df.loc[[497],['Area All']].values[0]\n",
    "d13C_V[6] = df.loc[[489],['Comment']].values[0]\n",
    "d13C_area_WS[6] = df.loc[[481],['Area All']].values[0]\n",
    "\n",
    "d13C_values[7,0] = df.loc[[116],['d 13C/12C']].values[0]\n",
    "d13C_values[7,1] = df.loc[[124],['d 13C/12C']].values[0]\n",
    "d13C_WS[7] = df.loc[[132],['d 13C/12C']].values[0]\n",
    "d13C_area[7,0] = df.loc[[116],['Area All']].values[0]\n",
    "d13C_area[7,1] = df.loc[[124],['Area All']].values[0]\n",
    "d13C_V[7] = df.loc[[116],['Comment']].values[0]\n",
    "d13C_area_WS[7] = df.loc[[132],['Area All']].values[0]\n",
    "\n",
    "d13C_values[8,0] = df.loc[[100],['d 13C/12C']].values[0]\n",
    "d13C_values[8,1] = df.loc[[108],['d 13C/12C']].values[0]\n",
    "d13C_WS[8] = df.loc[[92],['d 13C/12C']].values[0]\n",
    "d13C_area[8,0] = df.loc[[100],['Area All']].values[0]\n",
    "d13C_area[8,1] = df.loc[[108],['Area All']].values[0]\n",
    "d13C_V[8] = df.loc[[100],['Comment']].values[0]\n",
    "d13C_area_WS[8] = df.loc[[92],['Area All']].values[0]\n",
    "\n",
    "d13C_values[9,0] = df.loc[[44],['d 13C/12C']].values[0]\n",
    "d13C_values[9,1] = df.loc[[52],['d 13C/12C']].values[0]\n",
    "d13C_WS[9] = df.loc[[36],['d 13C/12C']].values[0]\n",
    "d13C_area[9,0] = df.loc[[44],['Area All']].values[0]\n",
    "d13C_area[9,1] = df.loc[[52],['Area All']].values[0]\n",
    "d13C_V[9] = df.loc[[44],['Comment']].values[0]\n",
    "d13C_area_WS[9] = df.loc[[36],['Area All']].values[0]\n",
    "\n",
    "d13C_values[10,0] = 0\n",
    "d13C_values[10,1] = 0\n",
    "d13C_WS[10] = 0\n",
    "d13C_area[10,0] = 0\n",
    "d13C_area[10,1] = 0\n",
    "d13C_V[10] = 0\n",
    "d13C_area_WS[10] = 0\n",
    "\n",
    "d13C_values[11,0] = 0\n",
    "d13C_values[11,1] = 0\n",
    "d13C_WS[11] = 0\n",
    "d13C_area[11,0] = 0\n",
    "d13C_area[11,1] = 0\n",
    "d13C_V[11] = 0\n",
    "d13C_area_WS[1] = 0\n",
    "\n",
    "d13C_values[12,0] = df.loc[[351],['d 13C/12C']].values[0]\n",
    "d13C_values[12,1] = df.loc[[359],['d 13C/12C']].values[0]\n",
    "d13C_WS[12] = df.loc[[368],['d 13C/12C']].values[0]\n",
    "d13C_area[12,0] = df.loc[[351],['Area All']].values[0]\n",
    "d13C_area[12,1] = df.loc[[359],['Area All']].values[0]\n",
    "d13C_V[12] = df.loc[[351],['Comment']].values[0]\n",
    "d13C_area_WS[12] = df.loc[[368],['Area All']].values[0]\n",
    "\n",
    "d13C_values[13,0] = df.loc[[392],['d 13C/12C']].values[0]\n",
    "d13C_values[13,1] = df.loc[[401],['d 13C/12C']].values[0]\n",
    "d13C_WS[13] = df.loc[[384],['d 13C/12C']].values[0]\n",
    "d13C_area[13,0] = df.loc[[392],['Area All']].values[0]\n",
    "d13C_area[13,1] = df.loc[[401],['Area All']].values[0]\n",
    "d13C_V[13] = df.loc[[392],['Comment']].values[0]\n",
    "d13C_area_WS[13] = df.loc[[384],['Area All']].values[0]"
   ]
  },
  {
   "cell_type": "code",
   "execution_count": 46,
   "metadata": {},
   "outputs": [],
   "source": [
    "# delta D values: sample and WS\n",
    "dD_values[0,0] = df.loc[[264],['d 2H/1H']].values[0]\n",
    "dD_values[0,1] = df.loc[[272],['d 2H/1H']].values[0]\n",
    "dD_WS[0] = df.loc[[280],['d 2H/1H']].values[0]\n",
    "dD_area[0,0] = df.loc[[264],['Area All']].values[0]\n",
    "dD_area[0,1] = df.loc[[272],['Area All']].values[0]\n",
    "dD_V[0] = df.loc[[264],['Comment']].values[0]\n",
    "dD_area_WS[0] = df.loc[[280],['Area All']].values[0]\n",
    "\n",
    "dD_values[1,0] = df.loc[[167],['d 2H/1H']].values[0]\n",
    "dD_values[1,1] = df.loc[[175],['d 2H/1H']].values[0]\n",
    "dD_WS[1] = df.loc[[183],['d 2H/1H']].values[0]\n",
    "dD_area[1,0] = df.loc[[167],['Area All']].values[0]\n",
    "dD_area[1,1] = df.loc[[175],['Area All']].values[0]\n",
    "dD_V[1] = df.loc[[167],['Comment']].values[0]\n",
    "dD_area_WS[1] = df.loc[[183],['Area All']].values[0]\n",
    "\n",
    "dD_values[2,0] = df.loc[[55],['d 2H/1H']].values[0]\n",
    "dD_values[2,1] = df.loc[[63],['d 2H/1H']].values[0]\n",
    "dD_WS[2] = df.loc[[71],['d 2H/1H']].values[0]\n",
    "dD_area[2,0] = df.loc[[55],['Area All']].values[0]\n",
    "dD_area[2,1] = df.loc[[63],['Area All']].values[0]\n",
    "dD_V[2] = df.loc[[55],['Comment']].values[0]\n",
    "dD_area_WS[2] = df.loc[[71],['Area All']].values[0]\n",
    "\n",
    "dD_values[3,0] = df.loc[[151],['d 2H/1H']].values[0]\n",
    "dD_values[3,1] = df.loc[[159],['d 2H/1H']].values[0]\n",
    "dD_WS[3] = df.loc[[143],['d 2H/1H']].values[0]\n",
    "dD_area[3,0] = df.loc[[151],['Area All']].values[0]\n",
    "dD_area[3,1] = df.loc[159,['Area All']].values[0]\n",
    "dD_V[3] = df.loc[[151],['Comment']].values[0]\n",
    "dD_area_WS[3] = df.loc[[143],['Area All']].values[0]\n",
    "\n",
    "dD_values[4,0] = df.loc[[207],['d 2H/1H']].values[0]\n",
    "dD_values[4,1] = df.loc[[215],['d 2H/1H']].values[0]        \n",
    "dD_WS[4] = df.loc[[199],['d 2H/1H']].values[0]\n",
    "dD_area[4,0] = df.loc[[207],['Area All']].values[0]\n",
    "dD_area[4,1] = df.loc[[215],['Area All']].values[0]\n",
    "dD_V[4] = df.loc[[207],['Comment']].values[0]\n",
    "dD_area_WS[4] = df.loc[[199],['Area All']].values[0]\n",
    "\n",
    "dD_values[5,0] = df.loc[[248],['d 2H/1H']].values[0]\n",
    "dD_values[5,1] = df.loc[[256],['d 2H/1H']].values[0]\n",
    "dD_WS[5] = df.loc[[240],['d 2H/1H']].values[0]\n",
    "dD_area[5,0] = df.loc[[248],['Area All']].values[0]\n",
    "dD_area[5,1] = df.loc[[256],['Area All']].values[0]\n",
    "dD_V[5] = df.loc[[248],['Comment']].values[0]\n",
    "dD_area_WS[5] = df.loc[[240],['Area All']].values[0]\n",
    "\n",
    "dD_values[6,0] = df.loc[[484],['d 2H/1H']].values[0]\n",
    "dD_values[6,1] = df.loc[[492],['d 2H/1H']].values[0]\n",
    "dD_WS[6] = df.loc[[476], ['d 2H/1H']].values[0]\n",
    "dD_area[6,0] = df.loc[[484],['Area All']].values[0]\n",
    "dD_area[6,1] = df.loc[[492],['Area All']].values[0]\n",
    "dD_V[6] = df.loc[[484],['Comment']].values[0]\n",
    "dD_area_WS[6] = df.loc[[476],['Comment']].values[0]\n",
    "\n",
    "dD_values[7,0] = df.loc[[111],['d 2H/1H']].values[0]\n",
    "dD_values[7,1] = df.loc[[119],['d 2H/1H']].values[0]\n",
    "dD_WS[7] = df.loc[[127],['d 2H/1H']].values[0]\n",
    "dD_area[7,0] = df.loc[[111],['Area All']].values[0]\n",
    "dD_area[7,1] = df.loc[[119],['Area All']].values[0]\n",
    "dD_V[7] = df.loc[[111],['Comment']].values[0]\n",
    "dD_area_WS[7] = df.loc[[127],['Area All']].values[0]\n",
    "\n",
    "dD_values[8,0] = df.loc[[95],['d 2H/1H']].values[0]\n",
    "dD_values[8,1] = df.loc[[103],['d 2H/1H']].values[0]\n",
    "dD_WS[8] = df.loc[[87],['d 2H/1H']].values[0]\n",
    "dD_area[8,0] = df.loc[[95],['Area All']].values[0]\n",
    "dD_area[8,1] = df.loc[[103],['Area All']].values[0]\n",
    "dD_V[8] = df.loc[[95],['Comment']].values[0]\n",
    "dD_area_WS[8] = df.loc[[87],['Area All']].values[0]\n",
    "\n",
    "dD_values[9,0] = df.loc[[39],['d 2H/1H']].values[0]\n",
    "dD_values[9,1] = df.loc[[47],['d 2H/1H']].values[0]\n",
    "dD_WS[9] = df.loc[[31],['d 2H/1H']].values[0]\n",
    "dD_area[9,0] = df.loc[[39],['Area All']].values[0]\n",
    "dD_area[9,1] = df.loc[[47],['Area All']].values[0]\n",
    "dD_V[9] = df.loc[[39],['Comment']].values[0]\n",
    "dD_area_WS[9] = df.loc[[31],['Area All']].values[0]\n",
    "\n",
    "dD_values[10,0] = 0\n",
    "dD_values[10,1] = 0\n",
    "dD_WS[10] = 0\n",
    "dD_area[10,0] = 0\n",
    "dD_area[10,1] = 0\n",
    "dD_V[10] = 0\n",
    "dD_area_WS[10] = 0\n",
    "\n",
    "dD_values[11,0] = 0\n",
    "dD_values[11,1] = 0\n",
    "dD_WS[11]=0\n",
    "\n",
    "dD_values[12,0] = df.loc[[346],['d 2H/1H']].values[0]\n",
    "dD_values[12,1] = df.loc[[354],['d 2H/1H']].values[0]\n",
    "dD_WS[12] = df.loc[[363],['d 2H/1H']].values[0]\n",
    "dD_area[12,0] = df.loc[[346],['Area All']].values[0]\n",
    "dD_area[12,1] = df.loc[[354],['Area All']].values[0]\n",
    "dD_V[12] = df.loc[[346],['Comment']].values[0]\n",
    "dD_area_WS[12] = df.loc[[363],['Area All']].values[0]\n",
    "\n",
    "dD_values[13,0] = df.loc[[387],['d 2H/1H']].values[0]\n",
    "dD_values[13,1] = df.loc[[396],['d 2H/1H']].values[0]\n",
    "dD_WS[13] = df.loc[[379],['d 2H/1H']].values[0]\n",
    "dD_area[13,0] = df.loc[[387],['Area All']].values[0]\n",
    "dD_area[13,1] = df.loc[[396],['Area All']].values[0]\n",
    "dD_V[13] = df.loc[[387],['Comment']].values[0]\n",
    "dD_area_WS[13] = df.loc[[379],['Area All']].values[0]"
   ]
  },
  {
   "cell_type": "code",
   "execution_count": 47,
   "metadata": {},
   "outputs": [
    {
     "name": "stderr",
     "output_type": "stream",
     "text": [
      "C:\\Users\\s153121\\AppData\\Local\\Continuum\\anaconda3\\lib\\site-packages\\ipykernel_launcher.py:43: RuntimeWarning: divide by zero encountered in double_scalars\n",
      "C:\\Users\\s153121\\AppData\\Local\\Continuum\\anaconda3\\lib\\site-packages\\ipykernel_launcher.py:43: RuntimeWarning: invalid value encountered in double_scalars\n"
     ]
    }
   ],
   "source": [
    "############# RESULTS ####################\n",
    "##########################################\n",
    "for i in range(len(d13C_IS)):             # calculate isotopic signatures\n",
    "    for j in range(2):\n",
    "        d13C_IS[i,j] = sample_IS(d13C_values[i,j],d13C_WS[i],C_IS)\n",
    "        dD_IS[i,j] = sample_IS(dD_values[i,j],dD_WS[i],D_IS)\n",
    "        d13C_chi[i,j] = func_chi(d13C_area[i,j],d13C_area_WS[i],d13C_V[i],dC_V_ws)\n",
    "        dD_chi[i,j] = func_chi(dD_area[i,j],dD_area_WS[i],dD_V[i],dD_V_ws)\n",
    "        \n",
    "df = pd.DataFrame(data=d13C_IS,columns=['d13C_1', 'd13C_2'])   # put results into dataframe\n",
    "df['dD_1'] = pd.Series(dD_IS[:,0])\n",
    "df['dD_2'] = pd.Series(dD_IS[:,1])\n",
    "df['d13Cchi_1'] = pd.Series(d13C_chi[:,0])\n",
    "df['d13Cchi_2'] = pd.Series(d13C_chi[:,1])\n",
    "df['dDchi_1'] = pd.Series(dD_chi[:,0])\n",
    "df['dDchi_2'] = pd.Series(dD_chi[:,1])\n",
    "df['Names'] = pd.Series(names)"
   ]
  },
  {
   "cell_type": "code",
   "execution_count": 48,
   "metadata": {},
   "outputs": [
    {
     "data": {
      "text/html": [
       "<div>\n",
       "<style scoped>\n",
       "    .dataframe tbody tr th:only-of-type {\n",
       "        vertical-align: middle;\n",
       "    }\n",
       "\n",
       "    .dataframe tbody tr th {\n",
       "        vertical-align: top;\n",
       "    }\n",
       "\n",
       "    .dataframe thead th {\n",
       "        text-align: right;\n",
       "    }\n",
       "</style>\n",
       "<table border=\"1\" class=\"dataframe\">\n",
       "  <thead>\n",
       "    <tr style=\"text-align: right;\">\n",
       "      <th></th>\n",
       "      <th>d13C_1</th>\n",
       "      <th>d13C_2</th>\n",
       "      <th>dD_1</th>\n",
       "      <th>dD_2</th>\n",
       "      <th>d13Cchi_1</th>\n",
       "      <th>d13Cchi_2</th>\n",
       "      <th>dDchi_1</th>\n",
       "      <th>dDchi_2</th>\n",
       "      <th>Names</th>\n",
       "    </tr>\n",
       "  </thead>\n",
       "  <tbody>\n",
       "    <tr>\n",
       "      <th>0</th>\n",
       "      <td>-50.204939</td>\n",
       "      <td>-50.106034</td>\n",
       "      <td>-120.978238</td>\n",
       "      <td>-124.038837</td>\n",
       "      <td>2.339325e+03</td>\n",
       "      <td>2.358358e+03</td>\n",
       "      <td>2391.129795</td>\n",
       "      <td>2383.587935</td>\n",
       "      <td>#0 background</td>\n",
       "    </tr>\n",
       "    <tr>\n",
       "      <th>1</th>\n",
       "      <td>-50.111885</td>\n",
       "      <td>-50.567191</td>\n",
       "      <td>-103.222744</td>\n",
       "      <td>-104.892567</td>\n",
       "      <td>inf</td>\n",
       "      <td>inf</td>\n",
       "      <td>2384.451369</td>\n",
       "      <td>2376.277095</td>\n",
       "      <td>#1 background</td>\n",
       "    </tr>\n",
       "    <tr>\n",
       "      <th>2</th>\n",
       "      <td>-53.043122</td>\n",
       "      <td>-53.003185</td>\n",
       "      <td>-156.598286</td>\n",
       "      <td>-159.307144</td>\n",
       "      <td>1.662415e+03</td>\n",
       "      <td>1.653277e+03</td>\n",
       "      <td>7337.827548</td>\n",
       "      <td>7185.636336</td>\n",
       "      <td>#2 canal</td>\n",
       "    </tr>\n",
       "    <tr>\n",
       "      <th>3</th>\n",
       "      <td>-56.168455</td>\n",
       "      <td>-56.071700</td>\n",
       "      <td>-192.032253</td>\n",
       "      <td>-188.887963</td>\n",
       "      <td>1.101759e+04</td>\n",
       "      <td>1.049014e+04</td>\n",
       "      <td>9477.800012</td>\n",
       "      <td>9588.251847</td>\n",
       "      <td>#3 canal</td>\n",
       "    </tr>\n",
       "    <tr>\n",
       "      <th>4</th>\n",
       "      <td>-57.383190</td>\n",
       "      <td>-1.694727</td>\n",
       "      <td>-191.342531</td>\n",
       "      <td>-193.146746</td>\n",
       "      <td>3.590451e+03</td>\n",
       "      <td>0.000000e+00</td>\n",
       "      <td>3708.327642</td>\n",
       "      <td>3643.146529</td>\n",
       "      <td>#4 pond</td>\n",
       "    </tr>\n",
       "    <tr>\n",
       "      <th>5</th>\n",
       "      <td>-53.770634</td>\n",
       "      <td>-53.776625</td>\n",
       "      <td>-224.985261</td>\n",
       "      <td>-229.478641</td>\n",
       "      <td>5.575840e+03</td>\n",
       "      <td>5.571034e+03</td>\n",
       "      <td>5319.091954</td>\n",
       "      <td>5368.921573</td>\n",
       "      <td>#5 pond</td>\n",
       "    </tr>\n",
       "    <tr>\n",
       "      <th>6</th>\n",
       "      <td>-13.006511</td>\n",
       "      <td>-13.041462</td>\n",
       "      <td>-150.559980</td>\n",
       "      <td>-152.585560</td>\n",
       "      <td>2.638054e+03</td>\n",
       "      <td>2.638368e+03</td>\n",
       "      <td>250.440190</td>\n",
       "      <td>250.645398</td>\n",
       "      <td>#6 car</td>\n",
       "    </tr>\n",
       "    <tr>\n",
       "      <th>7</th>\n",
       "      <td>-50.055070</td>\n",
       "      <td>-50.797974</td>\n",
       "      <td>-139.645478</td>\n",
       "      <td>-141.346097</td>\n",
       "      <td>2.558205e+03</td>\n",
       "      <td>2.471002e+03</td>\n",
       "      <td>2569.223507</td>\n",
       "      <td>2567.374866</td>\n",
       "      <td>#7 sheep</td>\n",
       "    </tr>\n",
       "    <tr>\n",
       "      <th>8</th>\n",
       "      <td>-58.240862</td>\n",
       "      <td>-58.523386</td>\n",
       "      <td>-179.510027</td>\n",
       "      <td>-182.395987</td>\n",
       "      <td>3.359147e+03</td>\n",
       "      <td>3.383513e+03</td>\n",
       "      <td>3439.881221</td>\n",
       "      <td>3390.671639</td>\n",
       "      <td>#8 trash</td>\n",
       "    </tr>\n",
       "    <tr>\n",
       "      <th>9</th>\n",
       "      <td>-60.808811</td>\n",
       "      <td>-60.736897</td>\n",
       "      <td>-201.621308</td>\n",
       "      <td>-200.455594</td>\n",
       "      <td>3.855900e+03</td>\n",
       "      <td>3.824264e+03</td>\n",
       "      <td>7912.361791</td>\n",
       "      <td>7879.100298</td>\n",
       "      <td>#9 trash</td>\n",
       "    </tr>\n",
       "    <tr>\n",
       "      <th>10</th>\n",
       "      <td>-48.070000</td>\n",
       "      <td>-48.070000</td>\n",
       "      <td>-88.310000</td>\n",
       "      <td>-88.310000</td>\n",
       "      <td>NaN</td>\n",
       "      <td>NaN</td>\n",
       "      <td>NaN</td>\n",
       "      <td>NaN</td>\n",
       "      <td>#10 Ina</td>\n",
       "    </tr>\n",
       "    <tr>\n",
       "      <th>11</th>\n",
       "      <td>-48.070000</td>\n",
       "      <td>-48.070000</td>\n",
       "      <td>-88.310000</td>\n",
       "      <td>-88.310000</td>\n",
       "      <td>NaN</td>\n",
       "      <td>NaN</td>\n",
       "      <td>NaN</td>\n",
       "      <td>NaN</td>\n",
       "      <td>#11 Ina</td>\n",
       "    </tr>\n",
       "    <tr>\n",
       "      <th>12</th>\n",
       "      <td>-58.324551</td>\n",
       "      <td>-58.533338</td>\n",
       "      <td>-221.910937</td>\n",
       "      <td>-222.102942</td>\n",
       "      <td>4.512700e+03</td>\n",
       "      <td>4.545175e+03</td>\n",
       "      <td>4318.701192</td>\n",
       "      <td>4326.708990</td>\n",
       "      <td>#12 Emma</td>\n",
       "    </tr>\n",
       "    <tr>\n",
       "      <th>13</th>\n",
       "      <td>-61.029924</td>\n",
       "      <td>-60.909037</td>\n",
       "      <td>-248.513786</td>\n",
       "      <td>-248.143307</td>\n",
       "      <td>6.500411e+03</td>\n",
       "      <td>6.505444e+03</td>\n",
       "      <td>6230.576610</td>\n",
       "      <td>6357.340763</td>\n",
       "      <td>#13 Emma</td>\n",
       "    </tr>\n",
       "  </tbody>\n",
       "</table>\n",
       "</div>"
      ],
      "text/plain": [
       "       d13C_1     d13C_2        dD_1        dD_2     d13Cchi_1     d13Cchi_2  \\\n",
       "0  -50.204939 -50.106034 -120.978238 -124.038837  2.339325e+03  2.358358e+03   \n",
       "1  -50.111885 -50.567191 -103.222744 -104.892567           inf           inf   \n",
       "2  -53.043122 -53.003185 -156.598286 -159.307144  1.662415e+03  1.653277e+03   \n",
       "3  -56.168455 -56.071700 -192.032253 -188.887963  1.101759e+04  1.049014e+04   \n",
       "4  -57.383190  -1.694727 -191.342531 -193.146746  3.590451e+03  0.000000e+00   \n",
       "5  -53.770634 -53.776625 -224.985261 -229.478641  5.575840e+03  5.571034e+03   \n",
       "6  -13.006511 -13.041462 -150.559980 -152.585560  2.638054e+03  2.638368e+03   \n",
       "7  -50.055070 -50.797974 -139.645478 -141.346097  2.558205e+03  2.471002e+03   \n",
       "8  -58.240862 -58.523386 -179.510027 -182.395987  3.359147e+03  3.383513e+03   \n",
       "9  -60.808811 -60.736897 -201.621308 -200.455594  3.855900e+03  3.824264e+03   \n",
       "10 -48.070000 -48.070000  -88.310000  -88.310000           NaN           NaN   \n",
       "11 -48.070000 -48.070000  -88.310000  -88.310000           NaN           NaN   \n",
       "12 -58.324551 -58.533338 -221.910937 -222.102942  4.512700e+03  4.545175e+03   \n",
       "13 -61.029924 -60.909037 -248.513786 -248.143307  6.500411e+03  6.505444e+03   \n",
       "\n",
       "        dDchi_1      dDchi_2          Names  \n",
       "0   2391.129795  2383.587935  #0 background  \n",
       "1   2384.451369  2376.277095  #1 background  \n",
       "2   7337.827548  7185.636336       #2 canal  \n",
       "3   9477.800012  9588.251847       #3 canal  \n",
       "4   3708.327642  3643.146529        #4 pond  \n",
       "5   5319.091954  5368.921573        #5 pond  \n",
       "6    250.440190   250.645398         #6 car  \n",
       "7   2569.223507  2567.374866       #7 sheep  \n",
       "8   3439.881221  3390.671639       #8 trash  \n",
       "9   7912.361791  7879.100298       #9 trash  \n",
       "10          NaN          NaN        #10 Ina  \n",
       "11          NaN          NaN        #11 Ina  \n",
       "12  4318.701192  4326.708990       #12 Emma  \n",
       "13  6230.576610  6357.340763       #13 Emma  "
      ]
     },
     "execution_count": 48,
     "metadata": {},
     "output_type": "execute_result"
    }
   ],
   "source": [
    "df"
   ]
  },
  {
   "cell_type": "markdown",
   "metadata": {},
   "source": [
    "# Keeling plot Trash (8 and 9)"
   ]
  },
  {
   "cell_type": "code",
   "execution_count": 49,
   "metadata": {},
   "outputs": [
    {
     "name": "stdout",
     "output_type": "stream",
     "text": [
      "slope: 50957.196298    intercept: -73.791982\n",
      "R-squared: 0.997078\n"
     ]
    },
    {
     "data": {
      "image/png": "[encoded data removed]",
      "text/plain": [
       "<Figure size 432x288 with 1 Axes>"
      ]
     },
     "metadata": {
      "needs_background": "light"
     },
     "output_type": "display_data"
    }
   ],
   "source": [
    "#Keeling plot for #8 and #9 trash 13C\n",
    "D_b = -88.56\n",
    "C13_b = -48.13\n",
    "Chi_b = 1978.94\n",
    "\n",
    "yd_b = C13_b\n",
    "yd_S1 = d13C_IS[9,0]\n",
    "yd_S2 = d13C_IS[9,1]\n",
    "yd_S3 = d13C_IS[8,0]\n",
    "yd_S4 = d13C_IS[8,1]\n",
    "\n",
    "xd_b = 1/Chi_b\n",
    "xd_S1 = 1/d13C_chi[9,0]\n",
    "xd_S2 = 1/d13C_chi[9,1]\n",
    "xd_S3 = 1/d13C_chi[8,0]\n",
    "xd_S4 = 1/d13C_chi[8,1]\n",
    "\n",
    "x=np.array([xd_b, xd_S1, xd_S2, xd_S3, xd_S4])\n",
    "y=np.array([yd_b, yd_S1, yd_S2, yd_S3, yd_S4])\n",
    "\n",
    "slope, intercept, r_value, p_value, std_err = stats.linregress(x, y)\n",
    "print(\"slope: %f    intercept: %f\" % (slope, intercept))\n",
    "print(\"R-squared: %f\" % r_value**2)\n",
    "\n",
    "plt.plot(x, y, 'o', label='original data')\n",
    "plt.plot(x, intercept + slope*x, 'r', label='fitted line')\n",
    "plt.ylabel('$\\delta$ 13C')\n",
    "plt.xlabel('1/$\\chi$')\n",
    "plt.title('Keeling plot of $\\delta$ 13C from Trash sample')\n",
    "plt.legend()\n",
    "plt.show()"
   ]
  },
  {
   "cell_type": "code",
   "execution_count": 50,
   "metadata": {},
   "outputs": [
    {
     "name": "stdout",
     "output_type": "stream",
     "text": [
      "slope: 282561.426415    intercept: -246.475682\n",
      "R-squared: 0.884485\n"
     ]
    },
    {
     "data": {
      "image/png": "[encoded data removed]",
      "text/plain": [
       "<Figure size 432x288 with 1 Axes>"
      ]
     },
     "metadata": {
      "needs_background": "light"
     },
     "output_type": "display_data"
    }
   ],
   "source": [
    "#Keeling plot for #8 and #9 trash D2\n",
    "yd_b = D_b\n",
    "yd_S1 = dD_IS[9,0]\n",
    "yd_S2 = dD_IS[9,1]\n",
    "yd_S3 = dD_IS[8,0]\n",
    "yd_S4 = dD_IS[8,1]\n",
    "\n",
    "xd_b = 1/1978.94\n",
    "xd_S1 = 1/dD_chi[9,0]\n",
    "xd_S2 = 1/dD_chi[9,1]\n",
    "xd_S3 = 1/dD_chi[8,0]\n",
    "xd_S4 = 1/dD_chi[8,1]\n",
    "\n",
    "x=np.array([xd_b, xd_S1, xd_S2, xd_S3, xd_S4])\n",
    "y=np.array([yd_b, yd_S1, yd_S2, yd_S3, yd_S4])\n",
    "\n",
    "slope, intercept, r_value, p_value, std_err = stats.linregress(x, y)\n",
    "print(\"slope: %f    intercept: %f\" % (slope, intercept))\n",
    "print(\"R-squared: %f\" % r_value**2)\n",
    "\n",
    "plt.plot(x, y, 'o', label='original data')\n",
    "plt.plot(x, intercept + slope*x, 'r', label='fitted line')\n",
    "plt.ylabel('$\\delta$ D')\n",
    "plt.xlabel('1/$\\chi$')\n",
    "plt.title('Keeling plot of $\\delta$ D from Trash sample')\n",
    "plt.legend()\n",
    "plt.show()"
   ]
  },
  {
   "cell_type": "markdown",
   "metadata": {},
   "source": [
    "# Keeling plot Background (0 and 1)"
   ]
  },
  {
   "cell_type": "code",
   "execution_count": 51,
   "metadata": {},
   "outputs": [
    {
     "name": "stdout",
     "output_type": "stream",
     "text": [
      "slope: 2297.253524    intercept: -50.447401\n",
      "R-squared: 0.353317\n"
     ]
    },
    {
     "data": {
      "image/png": "[encoded data removed]",
      "text/plain": [
       "<Figure size 432x288 with 1 Axes>"
      ]
     },
     "metadata": {
      "needs_background": "light"
     },
     "output_type": "display_data"
    }
   ],
   "source": [
    "#Keeling plot for #0 and #1 background 13C\n",
    "D_b = -88.56\n",
    "C13_b = -48.13\n",
    "Chi_b = 1978.94\n",
    "\n",
    "yd_b = C13_b\n",
    "yd_S1 = d13C_IS[0,0]\n",
    "yd_S2 = d13C_IS[0,1]\n",
    "yd_S3 = d13C_IS[1,0]\n",
    "yd_S4 = d13C_IS[1,1]\n",
    "\n",
    "xd_b = 1/Chi_b\n",
    "xd_S1 = 1/d13C_chi[0,0]\n",
    "xd_S2 = 1/d13C_chi[0,1]\n",
    "xd_S3 = 1/d13C_chi[1,0]\n",
    "xd_S4 = 1/d13C_chi[1,1]\n",
    "\n",
    "x=np.array([xd_b, xd_S1, xd_S2, xd_S3, xd_S4])\n",
    "y=np.array([yd_b, yd_S1, yd_S2, yd_S3, yd_S4])\n",
    "\n",
    "slope, intercept, r_value, p_value, std_err = stats.linregress(x, y)\n",
    "print(\"slope: %f    intercept: %f\" % (slope, intercept))\n",
    "print(\"R-squared: %f\" % r_value**2)\n",
    "\n",
    "plt.plot(x, y, 'o', label='original data')\n",
    "plt.plot(x, intercept + slope*x, 'r', label='fitted line')\n",
    "plt.ylabel('$\\delta$ 13C')\n",
    "plt.xlabel('1/$\\chi$')\n",
    "plt.title('Keeling plot of $\\delta$ 13C from Background sample')\n",
    "plt.legend()\n",
    "plt.show()"
   ]
  },
  {
   "cell_type": "code",
   "execution_count": 52,
   "metadata": {},
   "outputs": [
    {
     "name": "stdout",
     "output_type": "stream",
     "text": [
      "slope: 291178.553069    intercept: -235.483282\n",
      "R-squared: 0.598425\n"
     ]
    },
    {
     "data": {
      "image/png": "[encoded data removed]",
      "text/plain": [
       "<Figure size 432x288 with 1 Axes>"
      ]
     },
     "metadata": {
      "needs_background": "light"
     },
     "output_type": "display_data"
    }
   ],
   "source": [
    "#Keeling plot for #0 and #1 background D\n",
    "yd_b = D_b\n",
    "yd_S1 = dD_IS[0,0]\n",
    "yd_S2 = dD_IS[0,1]\n",
    "yd_S3 = dD_IS[1,0]\n",
    "yd_S4 = dD_IS[1,1]\n",
    "\n",
    "xd_b = 1/1978.94\n",
    "xd_S1 = 1/dD_chi[0,0]\n",
    "xd_S2 = 1/dD_chi[0,1]\n",
    "xd_S3 = 1/dD_chi[1,0]\n",
    "xd_S4 = 1/dD_chi[1,1]\n",
    "\n",
    "x=np.array([xd_b, xd_S1, xd_S2, xd_S3, xd_S4])\n",
    "y=np.array([yd_b, yd_S1, yd_S2, yd_S3, yd_S4])\n",
    "\n",
    "slope, intercept, r_value, p_value, std_err = stats.linregress(x, y)\n",
    "print(\"slope: %f    intercept: %f\" % (slope, intercept))\n",
    "print(\"R-squared: %f\" % r_value**2)\n",
    "\n",
    "plt.plot(x, y, 'o', label='original data')\n",
    "plt.plot(x, intercept + slope*x, 'r', label='fitted line')\n",
    "plt.ylabel('$\\delta$ D')\n",
    "plt.xlabel('1/$\\chi$')\n",
    "plt.title('Keeling plot of $\\delta$ D from Background sample')\n",
    "plt.legend()\n",
    "plt.show()"
   ]
  },
  {
   "cell_type": "markdown",
   "metadata": {},
   "source": [
    "# Keeling plot Canal (2 and 3)"
   ]
  },
  {
   "cell_type": "code",
   "execution_count": 53,
   "metadata": {},
   "outputs": [
    {
     "name": "stdout",
     "output_type": "stream",
     "text": [
      "slope: 8535.516321    intercept: -56.523044\n",
      "R-squared: 0.476779\n"
     ]
    },
    {
     "data": {
      "image/png": "[encoded data removed]",
      "text/plain": [
       "<Figure size 432x288 with 1 Axes>"
      ]
     },
     "metadata": {
      "needs_background": "light"
     },
     "output_type": "display_data"
    }
   ],
   "source": [
    "#Keeling plot for #2 and #3 canal 13C\n",
    "D_b = -88.56\n",
    "C13_b = -48.13\n",
    "Chi_b = 1978.94\n",
    "\n",
    "yd_b = C13_b\n",
    "yd_S1 = d13C_IS[2,0]\n",
    "yd_S2 = d13C_IS[2,1]\n",
    "yd_S3 = d13C_IS[3,0]\n",
    "yd_S4 = d13C_IS[3,1]\n",
    "\n",
    "xd_b = 1/Chi_b\n",
    "xd_S1 = 1/d13C_chi[2,0]\n",
    "xd_S2 = 1/d13C_chi[2,1]\n",
    "xd_S3 = 1/d13C_chi[3,0]\n",
    "xd_S4 = 1/d13C_chi[3,1]\n",
    "\n",
    "x=np.array([xd_b, xd_S1, xd_S2, xd_S3, xd_S4])\n",
    "y=np.array([yd_b, yd_S1, yd_S2, yd_S3, yd_S4])\n",
    "\n",
    "slope, intercept, r_value, p_value, std_err = stats.linregress(x, y)\n",
    "print(\"slope: %f    intercept: %f\" % (slope, intercept))\n",
    "print(\"R-squared: %f\" % r_value**2)\n",
    "\n",
    "plt.plot(x, y, 'o', label='original data')\n",
    "plt.plot(x, intercept + slope*x, 'r', label='fitted line')\n",
    "plt.ylabel('$\\delta$ 13C')\n",
    "plt.xlabel('1/$\\chi$')\n",
    "plt.title('Keeling plot of $\\delta$ 13C from Canal sample')\n",
    "plt.legend()\n",
    "plt.show()"
   ]
  },
  {
   "cell_type": "code",
   "execution_count": 54,
   "metadata": {},
   "outputs": [
    {
     "name": "stdout",
     "output_type": "stream",
     "text": [
      "slope: 229918.411612    intercept: -202.627263\n",
      "R-squared: 0.907667\n"
     ]
    },
    {
     "data": {
      "image/png": "[encoded data removed]",
      "text/plain": [
       "<Figure size 432x288 with 1 Axes>"
      ]
     },
     "metadata": {
      "needs_background": "light"
     },
     "output_type": "display_data"
    }
   ],
   "source": [
    "#Keeling plot for #2 and #3 Canal D\n",
    "yd_b = D_b\n",
    "yd_S1 = dD_IS[2,0]\n",
    "yd_S2 = dD_IS[2,1]\n",
    "yd_S3 = dD_IS[3,0]\n",
    "yd_S4 = dD_IS[3,1]\n",
    "\n",
    "xd_b = 1/Chi_b\n",
    "xd_S1 = 1/dD_chi[2,0]\n",
    "xd_S2 = 1/dD_chi[2,1]\n",
    "xd_S3 = 1/dD_chi[3,0]\n",
    "xd_S4 = 1/dD_chi[3,1]\n",
    "\n",
    "x=np.array([xd_b, xd_S1, xd_S2, xd_S3, xd_S4])\n",
    "y=np.array([yd_b, yd_S1, yd_S2, yd_S3, yd_S4])\n",
    "\n",
    "slope, intercept, r_value, p_value, std_err = stats.linregress(x, y)\n",
    "print(\"slope: %f    intercept: %f\" % (slope, intercept))\n",
    "print(\"R-squared: %f\" % r_value**2)\n",
    "\n",
    "plt.plot(x, y, 'o', label='original data')\n",
    "plt.plot(x, intercept + slope*x, 'r', label='fitted line')\n",
    "plt.ylabel('$\\delta$ D')\n",
    "plt.xlabel('1/$\\chi$')\n",
    "plt.title('Keeling plot of $\\delta$ D from Canal sample')\n",
    "plt.legend()\n",
    "plt.show()"
   ]
  },
  {
   "cell_type": "markdown",
   "metadata": {},
   "source": [
    "# Keeling plot Pond (4 and 5)"
   ]
  },
  {
   "cell_type": "code",
   "execution_count": 56,
   "metadata": {},
   "outputs": [
    {
     "name": "stdout",
     "output_type": "stream",
     "text": [
      "slope: 17854.697238    intercept: -58.365675\n",
      "R-squared: 0.515318\n"
     ]
    },
    {
     "data": {
      "image/png": "[encoded data removed]",
      "text/plain": [
       "<Figure size 432x288 with 1 Axes>"
      ]
     },
     "metadata": {
      "needs_background": "light"
     },
     "output_type": "display_data"
    }
   ],
   "source": [
    "D_b = -88.56\n",
    "C13_b = -48.13\n",
    "Chi_b = 1978.94\n",
    "\n",
    "yd_b = C13_b\n",
    "yd_S1 = d13C_IS[4,0]\n",
    "#yd_S2 = d13C_IS[4,1]\n",
    "yd_S3 = d13C_IS[5,0]\n",
    "yd_S4 = d13C_IS[5,1]\n",
    "\n",
    "xd_b = 1/Chi_b\n",
    "xd_S1 = 1/d13C_chi[4,0]\n",
    "#xd_S2 = 1/d13C_chi[4,1]\n",
    "xd_S3 = 1/d13C_chi[5,0]\n",
    "xd_S4 = 1/d13C_chi[5,1]\n",
    "\n",
    "x=np.array([xd_b, xd_S1, xd_S3, xd_S4])\n",
    "y=np.array([yd_b, yd_S1, yd_S3, yd_S4])\n",
    "\n",
    "slope, intercept, r_value, p_value, std_err = stats.linregress(x, y)\n",
    "print(\"slope: %f    intercept: %f\" % (slope, intercept))\n",
    "print(\"R-squared: %f\" % r_value**2)\n",
    "\n",
    "plt.plot(x, y, 'o', label='original data')\n",
    "plt.plot(x, intercept + slope*x, 'r', label='fitted line')\n",
    "plt.ylabel('$\\delta$ 13C')\n",
    "plt.xlabel('1/$\\chi$')\n",
    "plt.title('Keeling plot of $\\delta$ 13C from Pond sample')\n",
    "plt.legend()\n",
    "plt.show()"
   ]
  },
  {
   "cell_type": "code",
   "execution_count": 57,
   "metadata": {},
   "outputs": [
    {
     "name": "stdout",
     "output_type": "stream",
     "text": [
      "slope: 436479.525245    intercept: -309.788568\n",
      "R-squared: 0.998496\n"
     ]
    },
    {
     "data": {
      "image/png": "[encoded data removed]",
      "text/plain": [
       "<Figure size 432x288 with 1 Axes>"
      ]
     },
     "metadata": {
      "needs_background": "light"
     },
     "output_type": "display_data"
    }
   ],
   "source": [
    "yd_b = D_b\n",
    "yd_S1 = dD_IS[4,0]\n",
    "yd_S2 = dD_IS[4,1]\n",
    "yd_S3 = dD_IS[5,0]\n",
    "yd_S4 = dD_IS[5,1]\n",
    "\n",
    "xd_b = 1/Chi_b\n",
    "xd_S1 = 1/dD_chi[4,0]\n",
    "xd_S2 = 1/dD_chi[4,1]\n",
    "xd_S3 = 1/dD_chi[5,0]\n",
    "xd_S4 = 1/dD_chi[5,1]\n",
    "\n",
    "x=np.array([xd_b, xd_S1, xd_S2, xd_S3, xd_S4])\n",
    "y=np.array([yd_b, yd_S1, yd_S2, yd_S3, yd_S4])\n",
    "\n",
    "slope, intercept, r_value, p_value, std_err = stats.linregress(x, y)\n",
    "print(\"slope: %f    intercept: %f\" % (slope, intercept))\n",
    "print(\"R-squared: %f\" % r_value**2)\n",
    "\n",
    "plt.plot(x, y, 'o', label='original data')\n",
    "plt.plot(x, intercept + slope*x, 'r', label='fitted line')\n",
    "plt.ylabel('$\\delta$ D')\n",
    "plt.xlabel('1/$\\chi$')\n",
    "plt.title('Keeling plot of $\\delta$ D from Pond sample')\n",
    "plt.legend()\n",
    "plt.show()"
   ]
  },
  {
   "cell_type": "markdown",
   "metadata": {},
   "source": [
    "# Keeling plot for Car Diluted (6)"
   ]
  },
  {
   "cell_type": "code",
   "execution_count": 59,
   "metadata": {},
   "outputs": [
    {
     "name": "stdout",
     "output_type": "stream",
     "text": [
      "slope: -278009.439771    intercept: 92.354025\n",
      "R-squared: 0.999999\n"
     ]
    },
    {
     "data": {
      "image/png": "[encoded data removed]",
      "text/plain": [
       "<Figure size 432x288 with 1 Axes>"
      ]
     },
     "metadata": {
      "needs_background": "light"
     },
     "output_type": "display_data"
    }
   ],
   "source": [
    "D_b = -88.56\n",
    "C13_b = -48.13\n",
    "Chi_b = 1978.94\n",
    "\n",
    "yd_b = C13_b\n",
    "yd_S1 = d13C_IS[6,0]\n",
    "yd_S2 = d13C_IS[6,1]\n",
    "#yd_S3 = d13C_IS[5,0]\n",
    "#yd_S4 = d13C_IS[5,1]\n",
    "\n",
    "xd_b = 1/Chi_b\n",
    "xd_S1 = 1/d13C_chi[6,0]\n",
    "xd_S2 = 1/d13C_chi[6,1]\n",
    "#xd_S3 = 1/d13C_chi[5,0]\n",
    "#xd_S4 = 1/d13C_chi[5,1]\n",
    "\n",
    "x=np.array([xd_b, xd_S1, xd_S2])\n",
    "y=np.array([yd_b, yd_S1, yd_S2])\n",
    "\n",
    "slope, intercept, r_value, p_value, std_err = stats.linregress(x, y)\n",
    "print(\"slope: %f    intercept: %f\" % (slope, intercept))\n",
    "print(\"R-squared: %f\" % r_value**2)\n",
    "\n",
    "plt.plot(x, y, 'o', label='original data')\n",
    "plt.plot(x, intercept + slope*x, 'r', label='fitted line')\n",
    "plt.ylabel('$\\delta$ 13C')\n",
    "plt.xlabel('1/$\\chi$')\n",
    "plt.title('Keeling plot of $\\delta$ 13C from Car sample')\n",
    "plt.legend()\n",
    "plt.show()"
   ]
  },
  {
   "cell_type": "code",
   "execution_count": 60,
   "metadata": {},
   "outputs": [
    {
     "name": "stdout",
     "output_type": "stream",
     "text": [
      "slope: -18075.460617    intercept: -79.427067\n",
      "R-squared: 0.999180\n"
     ]
    },
    {
     "data": {
      "image/png": "[encoded data removed]",
      "text/plain": [
       "<Figure size 432x288 with 1 Axes>"
      ]
     },
     "metadata": {
      "needs_background": "light"
     },
     "output_type": "display_data"
    }
   ],
   "source": [
    "yd_b = D_b\n",
    "yd_S1 = dD_IS[6,0]\n",
    "yd_S2 = dD_IS[6,1]\n",
    "#yd_S3 = dD_IS[5,0]\n",
    "#yd_S4 = dD_IS[5,1]\n",
    "\n",
    "xd_b = 1/Chi_b\n",
    "xd_S1 = 1/dD_chi[6,0]\n",
    "xd_S2 = 1/dD_chi[6,1]\n",
    "#xd_S3 = 1/dD_chi[5,0]\n",
    "#xd_S4 = 1/dD_chi[5,1]\n",
    "\n",
    "x=np.array([xd_b, xd_S1, xd_S2])\n",
    "y=np.array([yd_b, yd_S1, yd_S2])\n",
    "\n",
    "slope, intercept, r_value, p_value, std_err = stats.linregress(x, y)\n",
    "print(\"slope: %f    intercept: %f\" % (slope, intercept))\n",
    "print(\"R-squared: %f\" % r_value**2)\n",
    "\n",
    "plt.plot(x, y, 'o', label='original data')\n",
    "plt.plot(x, intercept + slope*x, 'r', label='fitted line')\n",
    "plt.ylabel('$\\delta$ D')\n",
    "plt.xlabel('1/$\\chi$')\n",
    "plt.title('Keeling plot of $\\delta$ D from Car sample')\n",
    "plt.legend()\n",
    "plt.show()"
   ]
  },
  {
   "cell_type": "markdown",
   "metadata": {},
   "source": [
    "# Keeling plot for Sheep (7)"
   ]
  },
  {
   "cell_type": "code",
   "execution_count": 61,
   "metadata": {},
   "outputs": [
    {
     "name": "stdout",
     "output_type": "stream",
     "text": [
      "slope: 20440.980301    intercept: -58.525002\n",
      "R-squared: 0.859787\n"
     ]
    },
    {
     "data": {
      "image/png": "[encoded data removed]",
      "text/plain": [
       "<Figure size 432x288 with 1 Axes>"
      ]
     },
     "metadata": {
      "needs_background": "light"
     },
     "output_type": "display_data"
    }
   ],
   "source": [
    "yd_b = C13_b\n",
    "yd_S1 = d13C_IS[7,0]\n",
    "yd_S2 = d13C_IS[7,1]\n",
    "#yd_S3 = d13C_IS[5,0]\n",
    "#yd_S4 = d13C_IS[5,1]\n",
    "\n",
    "xd_b = 1/Chi_b\n",
    "xd_S1 = 1/d13C_chi[7,0]\n",
    "xd_S2 = 1/d13C_chi[7,1]\n",
    "#xd_S3 = 1/d13C_chi[5,0]\n",
    "#xd_S4 = 1/d13C_chi[5,1]\n",
    "\n",
    "x=np.array([xd_b, xd_S1, xd_S2])\n",
    "y=np.array([yd_b, yd_S1, yd_S2])\n",
    "\n",
    "slope, intercept, r_value, p_value, std_err = stats.linregress(x, y)\n",
    "print(\"slope: %f    intercept: %f\" % (slope, intercept))\n",
    "print(\"R-squared: %f\" % r_value**2)\n",
    "\n",
    "plt.plot(x, y, 'o', label='original data')\n",
    "plt.plot(x, intercept + slope*x, 'r', label='fitted line')\n",
    "plt.ylabel('$\\delta$ 13C')\n",
    "plt.xlabel('1/$\\chi$')\n",
    "plt.title('Keeling plot of $\\delta$ 13C from Sheep sample')\n",
    "plt.legend()\n",
    "plt.show()"
   ]
  },
  {
   "cell_type": "code",
   "execution_count": 62,
   "metadata": {},
   "outputs": [
    {
     "name": "stdout",
     "output_type": "stream",
     "text": [
      "slope: 447854.983647    intercept: -314.872749\n",
      "R-squared: 0.999073\n"
     ]
    },
    {
     "data": {
      "image/png": "[encoded data removed]",
      "text/plain": [
       "<Figure size 432x288 with 1 Axes>"
      ]
     },
     "metadata": {
      "needs_background": "light"
     },
     "output_type": "display_data"
    }
   ],
   "source": [
    "yd_b = D_b\n",
    "yd_S1 = dD_IS[7,0]\n",
    "yd_S2 = dD_IS[7,1]\n",
    "#yd_S3 = dD_IS[5,0]\n",
    "#yd_S4 = dD_IS[5,1]\n",
    "\n",
    "xd_b = 1/Chi_b\n",
    "xd_S1 = 1/dD_chi[7,0]\n",
    "xd_S2 = 1/dD_chi[7,1]\n",
    "#xd_S3 = 1/dD_chi[5,0]\n",
    "#xd_S4 = 1/dD_chi[5,1]\n",
    "\n",
    "x=np.array([xd_b, xd_S1, xd_S2])\n",
    "y=np.array([yd_b, yd_S1, yd_S2])\n",
    "\n",
    "slope, intercept, r_value, p_value, std_err = stats.linregress(x, y)\n",
    "print(\"slope: %f    intercept: %f\" % (slope, intercept))\n",
    "print(\"R-squared: %f\" % r_value**2)\n",
    "\n",
    "plt.plot(x, y, 'o', label='original data')\n",
    "plt.plot(x, intercept + slope*x, 'r', label='fitted line')\n",
    "plt.ylabel('$\\delta$ D')\n",
    "plt.xlabel('1/$\\chi$')\n",
    "plt.title('Keeling plot of $\\delta$ D from Sheep sample')\n",
    "plt.legend()\n",
    "plt.show()"
   ]
  },
  {
   "cell_type": "markdown",
   "metadata": {},
   "source": [
    "# Keeling plot for Emma (12 and 13)"
   ]
  },
  {
   "cell_type": "code",
   "execution_count": 63,
   "metadata": {},
   "outputs": [
    {
     "name": "stdout",
     "output_type": "stream",
     "text": [
      "slope: 36459.261135    intercept: -66.532891\n",
      "R-squared: 0.999743\n"
     ]
    },
    {
     "data": {
      "image/png": "[encoded data removed]",
      "text/plain": [
       "<Figure size 432x288 with 1 Axes>"
      ]
     },
     "metadata": {
      "needs_background": "light"
     },
     "output_type": "display_data"
    }
   ],
   "source": [
    "yd_b = C13_b\n",
    "yd_S1 = d13C_IS[12,0]\n",
    "yd_S2 = d13C_IS[12,1]\n",
    "yd_S3 = d13C_IS[13,0]\n",
    "yd_S4 = d13C_IS[13,1]\n",
    "\n",
    "xd_b = 1/Chi_b\n",
    "xd_S1 = 1/d13C_chi[12,0]\n",
    "xd_S2 = 1/d13C_chi[12,1]\n",
    "xd_S3 = 1/d13C_chi[13,0]\n",
    "xd_S4 = 1/d13C_chi[13,1]\n",
    "\n",
    "x=np.array([xd_b, xd_S1, xd_S2, xd_S3, xd_S4])\n",
    "y=np.array([yd_b, yd_S1, yd_S2, yd_S3, yd_S4])\n",
    "\n",
    "slope, intercept, r_value, p_value, std_err = stats.linregress(x, y)\n",
    "print(\"slope: %f    intercept: %f\" % (slope, intercept))\n",
    "print(\"R-squared: %f\" % r_value**2)\n",
    "\n",
    "plt.plot(x, y, 'o', label='original data')\n",
    "plt.plot(x, intercept + slope*x, 'r', label='fitted line')\n",
    "plt.ylabel('$\\delta$ 13C')\n",
    "plt.xlabel('1/$\\chi$')\n",
    "plt.title('Keeling plot of $\\delta$ 13C from Emma sample')\n",
    "plt.legend()\n",
    "plt.show()"
   ]
  },
  {
   "cell_type": "code",
   "execution_count": 64,
   "metadata": {},
   "outputs": [
    {
     "name": "stdout",
     "output_type": "stream",
     "text": [
      "slope: 465610.251528    intercept: -325.581776\n",
      "R-squared: 0.996625\n"
     ]
    },
    {
     "data": {
      "image/png": "[encoded data removed]",
      "text/plain": [
       "<Figure size 432x288 with 1 Axes>"
      ]
     },
     "metadata": {
      "needs_background": "light"
     },
     "output_type": "display_data"
    }
   ],
   "source": [
    "yd_b = D_b\n",
    "yd_S1 = dD_IS[12,0]\n",
    "yd_S2 = dD_IS[12,1]\n",
    "yd_S3 = dD_IS[13,0]\n",
    "yd_S4 = dD_IS[13,1]\n",
    "\n",
    "xd_b = 1/Chi_b\n",
    "xd_S1 = 1/dD_chi[12,0]\n",
    "xd_S2 = 1/dD_chi[12,1]\n",
    "xd_S3 = 1/dD_chi[13,0]\n",
    "xd_S4 = 1/dD_chi[13,1]\n",
    "\n",
    "x=np.array([xd_b, xd_S1, xd_S2, xd_S3, xd_S4])\n",
    "y=np.array([yd_b, yd_S1, yd_S2, yd_S3, yd_S4])\n",
    "\n",
    "slope, intercept, r_value, p_value, std_err = stats.linregress(x, y)\n",
    "print(\"slope: %f    intercept: %f\" % (slope, intercept))\n",
    "print(\"R-squared: %f\" % r_value**2)\n",
    "\n",
    "plt.plot(x, y, 'o', label='original data')\n",
    "plt.plot(x, intercept + slope*x, 'r', label='fitted line')\n",
    "plt.ylabel('$\\delta$ D')\n",
    "plt.xlabel('1/$\\chi$')\n",
    "plt.title('Keeling plot of $\\delta$ D from Emma sample')\n",
    "plt.legend()\n",
    "plt.show()"
   ]
  },
  {
   "cell_type": "markdown",
   "metadata": {},
   "source": [
    "# Source signature plot"
   ]
  },
  {
   "cell_type": "code",
   "execution_count": 82,
   "metadata": {},
   "outputs": [
    {
     "data": {
      "text/plain": [
       "Text(0.5, 1.0, 'Source Signature Plot')"
      ]
     },
     "execution_count": 82,
     "metadata": {},
     "output_type": "execute_result"
    },
    {
     "data": {
      "image/png": "[encoded data removed]",
      "text/plain": [
       "<Figure size 432x288 with 1 Axes>"
      ]
     },
     "metadata": {
      "needs_background": "light"
     },
     "output_type": "display_data"
    }
   ],
   "source": [
    "x = np.array([-50.447401, -56.523044, -58.365675, 92.354025, -58.525002, -73.791982, -66.532891])\n",
    "y = np.array([-235.483282, -202.627263, -309.788568, -79.427067, -314.872749, -246.475682, -325.581776])\n",
    "\n",
    "plt.scatter(x,y)\n",
    "plt.axis([-100,100,-480,0])\n",
    "plt.xlabel('$\\delta$13C')\n",
    "plt.ylabel('$\\delta$D')\n",
    "plt.title('Source Signature Plot')"
   ]
  },
  {
   "cell_type": "markdown",
   "metadata": {},
   "source": [
    "TO DO:\n",
    "-Add uncertainties\n",
    "-Find out how to make a plot as Malika send us\n",
    "-Make a pretty and clear plot where it is easy to distinguish the origin of the different dots\n",
    "\n",
    "As it looks now, some are in the microbial fermentation and some in the microbial CO2 reduction scheme. Also, it looks like something is wrong with the diluted car point, it's very far from the rest and positive?!\n",
    "\n",
    "About the keeling plots, some are very pretty (Emma and Trash) but some have points which lie very far from each other -> ask if this is correct. Also, the Keeling plot for the car is the other way around."
   ]
  },
  {
   "cell_type": "code",
   "execution_count": null,
   "metadata": {},
   "outputs": [],
   "source": []
  }
 ],
 "metadata": {
  "kernelspec": {
   "display_name": "Python 3",
   "language": "python",
   "name": "python3"
  },
  "language_info": {
   "codemirror_mode": {
    "name": "ipython",
    "version": 3
   },
   "file_extension": ".py",
   "mimetype": "text/x-python",
   "name": "python",
   "nbconvert_exporter": "python",
   "pygments_lexer": "ipython3",
   "version": "3.7.3"
  }
 },
 "nbformat": 4,
 "nbformat_minor": 2
}
