{
 "cells": [
  {
   "cell_type": "markdown",
   "metadata": {},
   "source": [
    "# Downwelling plot as a function of H"
   ]
  },
  {
   "cell_type": "code",
   "execution_count": 3,
   "metadata": {},
   "outputs": [],
   "source": [
    "import numpy as np  # http://www.numpy.org\n",
    "import matplotlib.pyplot as plt   # http://matplotlib.org\n",
    "import math as M  # https://docs.python.org/2/library/math.html\n",
    "from sympy.solvers import solve\n",
    "from sympy import Symbol\n",
    "from scipy.optimize import fsolve\n",
    "from scipy.integrate import odeint"
   ]
  },
  {
   "cell_type": "code",
   "execution_count": 4,
   "metadata": {},
   "outputs": [],
   "source": [
    "#### Constants #####\n",
    "L_x = 1000000 #zonal extent [m]\n",
    "L_y = 2000000 #meridional extent [m]\n",
    "A = L_x*L_y #surface area of interior [m^2] Note that the interior is probably smaller than this\n",
    "P = 2*L_x+2*L_y #Perimeter [m]\n",
    "\n",
    "g = 9.81 #gravitational acceleration [m/s^2]\n",
    "C_p = 3994 #specific heat capacity of sea water [J/(kg K)] source: Steffie's paper\n",
    "alpha_T = 0.2 #thermal expansion coefficient [kg m^-3 C^-1] source: Steffie's paper\n",
    "alpha_S = 0.8 #Haline expansion coefficient [kg m^-3]\n",
    "c = 0.006 #bottom slope coefficient\n",
    "s = 0.02 #average bottom slope around the perimeter of the marginal sea\n",
    "S = 35 #reference salinity [ppt]. Spall [2015]\n",
    "E = -2e-8 #constant freshwater flux [m/s]\n",
    "S_1 = 35.2 #from Lambert [g kg^-1]\n",
    "\n",
    "#### Parameters ####\n",
    "H = 1000 #sill height [m]\n",
    "f_0 = 1.2e-4 #Coriolis parameter [s^-1]\n",
    "Gamma = 20 #Restoring strength [W/(m^2 C)]\n",
    "\n",
    "L = H/s #width of sloping topography of the boundary current [m]\n",
    "T_1 = 8.87 #ingoing temperature [Celsius]\n",
    "T_A = 2.8 #Atmospheric temperature [Celsius]\n",
    "ro_0 = 1028  #density sea water [kg m^-3]. Range of 7 to 9 degrees of sea water\n",
    "#h_1 = ... #thickness upper layer [m]\n",
    "\n",
    "#### functions ####\n",
    "epsilon = c*P/(H/s) #ratio of heat fluxed into interior by eddies compared to heat flux by advection into the basin in the inflowing boundary current [-]\n",
    "mu = A*Gamma*f_0/(alpha_T*g*C_p*H**2*(T_1-T_A)) #[-]"
   ]
  },
  {
   "cell_type": "code",
   "execution_count": 6,
   "metadata": {},
   "outputs": [
    {
     "data": {
      "image/png": "[encoded data removed]",
      "text/plain": [
       "<Figure size 432x288 with 1 Axes>"
      ]
     },
     "metadata": {
      "needs_background": "light"
     },
     "output_type": "display_data"
    }
   ],
   "source": [
    "#Downwelling as a function of sill height\n",
    "H_array = [500,600,700,800,900,1000,1100,1200,1300]\n",
    "\n",
    "#Salinity model\n",
    "T_0 = np.zeros(len(H_array))\n",
    "T_2 = np.zeros(len(H_array))\n",
    "S_0 = np.zeros(len(H_array))\n",
    "S_2 = np.zeros(len(H_array))\n",
    "Delta_T = np.zeros(len(H_array))\n",
    "ro_in = np.zeros(len(H_array))\n",
    "ro_out = np.zeros(len(H_array))\n",
    "W = np.zeros(len(H_array))\n",
    "\n",
    "for i in range(len(H_array)):\n",
    "    H=H_array[i]\n",
    "    def main(x): # function with seven unkowns:  T_0,  T_2,  S_0,  S_2,  V_1, T_eddy, S_eddy \n",
    "             #                              x[0], x[1], x[2], x[3], x[4],   x[5],   x[6]\n",
    "        return [P*H*x[5]-A*Gamma*(x[0]-T_A)/(ro_0*C_p),\n",
    "                P*H*x[6]+A*E*S,\n",
    "                (T_1-x[1])*x[4]*H*L-(x[0] - T_A + (P*L/A)*(T_1-T_A))*A*Gamma/(ro_0*C_p),\n",
    "                (S_1-x[3])*x[4]*H*L+E*A*S+P*L*E*S,\n",
    "                g*H/(2*ro_0*f_0*L)*(alpha_T*(T_1-x[0])-alpha_S*(S_1-x[2]))-x[4],\n",
    "                c*x[4]*(T_1-x[0])-x[5],\n",
    "                c*x[4]*(S_1-x[2])-x[6]]\n",
    "    [T_0[i],T_2[i],S_0[i],S_2[i],V_1,T_eddy,S_eddy] = fsolve(main, [1,1,1,1,1,1,1])\n",
    "    ro_in[i] = ro_0+((alpha_T*(T_1-T_0[i]) - alpha_S*(S_1-S_0[i])))\n",
    "    ro_out[i] = ro_0+(alpha_T*(T_2[i]-T_0[i]) - alpha_S*(S_2[i]-S_0[i]))\n",
    "    W[i] = g*H**2*(ro_in[i] - ro_out[i])/(4*ro_0*f_0)\n",
    "    \n",
    "#Simple model\n",
    "T_0_simp = np.zeros(len(H_array))\n",
    "T_out_simp = np.zeros(len(H_array))\n",
    "W_simp = np.zeros(len(H_array))\n",
    "\n",
    "for i in range(len(H_array)):\n",
    "    T_0_simp[i] = T_1 - ((A*Gamma*f_0/(alpha_T*g*C_p*H_array[i]**2*(T_1-T_A)))/(c*P/(H_array[i]/s)))*(M.sqrt(1+2*(c*P/(H_array[i]/s))/(A*Gamma*f_0/(alpha_T*g*C_p*H_array[i]**2*(T_1-T_A))))-1)*(T_1 - T_A)\n",
    "    T_out_simp[i] = T_1 - 2*(A*Gamma*f_0/(alpha_T*g*C_p*H_array[i]**2*(T_1-T_A)))*((T_1-T_A)/(T_1-T_0_simp[i])*(1+P*(H_array[i]/s)/A)-1)*(T_1-T_A)\n",
    "    W_simp[i] = alpha_T*g*H_array[i]**2*(T_1-T_0_simp[i])/(4*ro_0*f_0)*(1-(T_out_simp[i]-T_0_simp[i])/(T_1-T_0_simp[i]))\n",
    "    \n",
    "#Plots\n",
    "plt.figure()\n",
    "plt.plot(H_array,W,label='W')\n",
    "plt.plot(H_array, W_simp, label='W_simp')\n",
    "plt.xlabel('Sill height [m]') # label along x-axes\n",
    "plt.ylabel('Downwelling [m^2 s^(-1)]')\n",
    "plt.legend(loc='lower right')\n",
    "plt.show()"
   ]
  },
  {
   "cell_type": "markdown",
   "metadata": {},
   "source": [
    "Downwelling increases as a function of sill height. This is in accordance with table 1 in Spall. More water flux, results in more ...."
   ]
  },
  {
   "cell_type": "code",
   "execution_count": null,
   "metadata": {},
   "outputs": [],
   "source": []
  }
 ],
 "metadata": {
  "kernelspec": {
   "display_name": "Python 3",
   "language": "python",
   "name": "python3"
  },
  "language_info": {
   "codemirror_mode": {
    "name": "ipython",
    "version": 3
   },
   "file_extension": ".py",
   "mimetype": "text/x-python",
   "name": "python",
   "nbconvert_exporter": "python",
   "pygments_lexer": "ipython3",
   "version": "3.7.3"
  }
 },
 "nbformat": 4,
 "nbformat_minor": 2
}
