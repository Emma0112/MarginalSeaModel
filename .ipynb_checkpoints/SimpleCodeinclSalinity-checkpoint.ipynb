{
 "cells": [
  {
   "cell_type": "code",
   "execution_count": 46,
   "metadata": {},
   "outputs": [],
   "source": [
    "import numpy as np  # http://www.numpy.org\n",
    "import matplotlib.pyplot as plt   # http://matplotlib.org\n",
    "import math as M  # https://docs.python.org/2/library/math.html\n",
    "from sympy.solvers import solve\n",
    "from sympy import Symbol\n",
    "from scipy.optimize import fsolve\n",
    "from scipy.integrate import odeint"
   ]
  },
  {
   "cell_type": "markdown",
   "metadata": {},
   "source": [
    "# Simple model including salinity"
   ]
  },
  {
   "cell_type": "code",
   "execution_count": 47,
   "metadata": {},
   "outputs": [],
   "source": [
    "#### Constants #####\n",
    "L_x = 1000000 #zonal extent [m]\n",
    "L_y = 2000000 #meridional extent [m]\n",
    "A = L_x*L_y #surface area of interior [m^2] Note that the interior is probably smaller than this\n",
    "P = 2*L_x+2*L_y #Perimeter [m]\n",
    "\n",
    "g = 9.81 #gravitational acceleration [m/s^2]\n",
    "C_p = 3994 #specific heat capacity of sea water [J/(kg K)] source: Steffie's paper\n",
    "alpha_T = 0.2 #thermal expansion coefficient [kg m^-3 C^-1] source: Steffie's paper\n",
    "alpha_S = 0.8 #Haline expansion coefficient [kg m^-3]\n",
    "c = 0.006 #bottom slope coefficient\n",
    "s = 0.02 #average bottom slope around the perimeter of the marginal sea\n",
    "S = 35 #reference salinity [ppt]. Spall [2015]\n",
    "E = -2e-8 #constant freshwater flux [m/s]\n",
    "S_1 = 35.2 #from Lambert [g kg^-1]\n",
    "\n",
    "#### Parameters ####\n",
    "H = 1000 #sill height [m]\n",
    "f_0 = 1.2e-4 #Coriolis parameter [s^-1]\n",
    "Gamma = 20 #Restoring strength [W/(m^2 C)]\n",
    "\n",
    "L = H/s #width of sloping topography of the boundary current [m]\n",
    "T_1 = 8.87 #ingoing temperature [Celsius]\n",
    "T_A = 2.8 #Atmospheric temperature [Celsius]\n",
    "ro_0 = 1028  #density sea water [kg m^-3]. Range of 7 to 9 degrees of sea water\n",
    "#h_1 = ... #thickness upper layer [m]\n",
    "\n",
    "#### functions ####\n",
    "epsilon = c*P/L #ratio of heat fluxed into interior by eddies compared to heat flux by advection into the basin in the inflowing boundary current [-]\n",
    "mu = A*Gamma*f_0/(alpha_T*g*C_p*H**2*(T_1-T_A)) #[-]\n",
    "gamma = 8*A*ro_0*f_0*S*alpha_S*E/(g*H**2*alpha_T**2*(T_1-T_A)**2)\n"
   ]
  },
  {
   "cell_type": "code",
   "execution_count": 48,
   "metadata": {},
   "outputs": [],
   "source": [
    "############# Computation ##################\n",
    "############################################\n",
    "\n",
    "# Main equations including salinity in the equation of state\n",
    "\n",
    "def main(x): # function with seven unkowns:  T_0,  T_2,  S_0,  S_2,  V_1, T_eddy, S_eddy \n",
    "             #                              x[0], x[1], x[2], x[3], x[4],   x[5],   x[6]\n",
    "    return [P*H*x[5]-A*Gamma*(x[0]-T_A)/(ro_0*C_p),\n",
    "            P*H*x[6]+A*E*S,\n",
    "            (T_1-x[1])*x[4]*H*L-(x[0] - T_A + (P*L/A)*(T_1-T_A))*A*Gamma/(ro_0*C_p),\n",
    "            (S_1-x[3])*x[4]*H*L+E*A*S+P*L*E*S,\n",
    "            g*H/(2*ro_0*f_0*L)*(alpha_T*(T_1-x[0])-alpha_S*(S_1-x[2]))-x[4],\n",
    "            c*x[4]*(T_1-x[0])-x[5],\n",
    "            c*x[4]*(S_1-x[2])-x[6]]\n",
    "\n",
    "[T_0,T_2,S_0,S_2,V_1,T_eddy,S_eddy] = fsolve(main, [1,1,1,1,1,1,1])"
   ]
  },
  {
   "cell_type": "code",
   "execution_count": 49,
   "metadata": {},
   "outputs": [
    {
     "data": {
      "text/plain": [
       "[6.224002138509651,\n",
       " 6.458278362452684,\n",
       " 35.08894843551929,\n",
       " 35.10804930078094,\n",
       " 0.3501876723572814,\n",
       " 0.005559574995615423,\n",
       " 0.00023333333333333333]"
      ]
     },
     "execution_count": 49,
     "metadata": {},
     "output_type": "execute_result"
    }
   ],
   "source": [
    "[T_0,T_2,S_0,S_2,V_1,T_eddy,S_eddy]"
   ]
  },
  {
   "cell_type": "code",
   "execution_count": 50,
   "metadata": {},
   "outputs": [
    {
     "data": {
      "image/png": "[encoded data removed]",
      "text/plain": [
       "<Figure size 648x216 with 2 Axes>"
      ]
     },
     "metadata": {
      "needs_background": "light"
     },
     "output_type": "display_data"
    }
   ],
   "source": [
    "T_1_array = [7,7.5,8,8.5,9,9.5,10,10.5,11]\n",
    "T_0 = np.zeros(len(T_1_array))\n",
    "T_2 = np.zeros(len(T_1_array))\n",
    "S_0 = np.zeros(len(T_1_array))\n",
    "S_2 = np.zeros(len(T_1_array))\n",
    "\n",
    "for i in range(len(T_1_array)):\n",
    "    T_1=T_1_array[i]\n",
    "    def main(x): # function with seven unkowns:  T_0,  T_2,  S_0,  S_2,  V_1, T_eddy, S_eddy \n",
    "             #                              x[0], x[1], x[2], x[3], x[4],   x[5],   x[6]\n",
    "        return [P*H*x[5]-A*Gamma*(x[0]-T_A)/(ro_0*C_p),\n",
    "                P*H*x[6]+A*E*S,\n",
    "                (T_1-x[1])*x[4]*H*L-(x[0] - T_A + (P*L/A)*(T_1-T_A))*A*Gamma/(ro_0*C_p),\n",
    "                (S_1-x[3])*x[4]*H*L+E*A*S+P*L*E*S,\n",
    "                g*H/(2*ro_0*f_0*L)*(alpha_T*(T_1-x[0])-alpha_S*(S_1-x[2]))-x[4],\n",
    "                c*x[4]*(T_1-x[0])-x[5],\n",
    "                c*x[4]*(S_1-x[2])-x[6]]\n",
    "    [T_0[i],T_2[i],S_0[i],S_2[i],V_1,T_eddy,S_eddy] = fsolve(main, [1,1,1,1,1,1,1])\n",
    "\n",
    "plt.figure(figsize=(9, 3))\n",
    "\n",
    "plt.subplot(121)\n",
    "plt.scatter(T_1_array, T_0, label='T_0')\n",
    "plt.scatter(T_1_array, T_2, label='T_2')\n",
    "plt.xlabel('Inflowing temperature T_1 [C]', fontsize=14) # label along x-axes\n",
    "plt.ylabel('Temperature [C]', fontsize=14) # label along x-axes\n",
    "plt.legend(loc='lower right')\n",
    "plt.subplot(122)\n",
    "plt.scatter(T_1_array, S_0, label='S_0')\n",
    "plt.scatter(T_1_array, S_2, label='S_1')\n",
    "plt.xlabel('Inflowing temperature T_1 [C]', fontsize=14) # label along x-axes\n",
    "plt.ylabel('Salinity [g/kg]', fontsize=14) # label along x-axes\n",
    "plt.legend(loc='lower right')\n",
    "plt.show()"
   ]
  },
  {
   "cell_type": "code",
   "execution_count": 51,
   "metadata": {},
   "outputs": [
    {
     "data": {
      "image/png": "[encoded data removed]",
      "text/plain": [
       "<Figure size 648x216 with 2 Axes>"
      ]
     },
     "metadata": {
      "needs_background": "light"
     },
     "output_type": "display_data"
    }
   ],
   "source": [
    "T_A_array = [0,0.5,1,1.5,2,2.5,3,3.5,4,4.5,5,5.5,6,6.5,7]\n",
    "T_0 = np.zeros(len(T_A_array))\n",
    "T_2 = np.zeros(len(T_A_array))\n",
    "S_0 = np.zeros(len(T_A_array))\n",
    "S_2 = np.zeros(len(T_A_array))\n",
    "\n",
    "for i in range(len(T_A_array)):\n",
    "    T_A=T_A_array[i]\n",
    "    def main(x): # function with seven unkowns:  T_0,  T_2,  S_0,  S_2,  V_1, T_eddy, S_eddy \n",
    "             #                              x[0], x[1], x[2], x[3], x[4],   x[5],   x[6]\n",
    "        return [P*H*x[5]-A*Gamma*(x[0]-T_A)/(ro_0*C_p),\n",
    "                P*H*x[6]+A*E*S,\n",
    "                (T_1-x[1])*x[4]*H*L-(x[0] - T_A + (P*L/A)*(T_1-T_A))*A*Gamma/(ro_0*C_p),\n",
    "                (S_1-x[3])*x[4]*H*L+E*A*S+P*L*E*S,\n",
    "                g*H/(2*ro_0*f_0*L)*(alpha_T*(T_1-x[0])-alpha_S*(S_1-x[2]))-x[4],\n",
    "                c*x[4]*(T_1-x[0])-x[5],\n",
    "                c*x[4]*(S_1-x[2])-x[6]]\n",
    "    [T_0[i],T_2[i],S_0[i],S_2[i],V_1,T_eddy,S_eddy] = fsolve(main, [1,1,1,1,1,1,1])\n",
    "\n",
    "plt.figure(figsize=(9, 3))\n",
    "\n",
    "plt.subplot(121)\n",
    "plt.plot(T_A_array, T_0, label='T_0')\n",
    "plt.plot(T_A_array, T_2, label='T_2')\n",
    "plt.xlabel('Atmospheric temperature T_A [C]') # label along x-axes\n",
    "plt.ylabel('Temperature [C]') # label along x-axes\n",
    "plt.legend(loc='lower right')\n",
    "plt.subplot(122)\n",
    "plt.plot(T_A_array, S_0, label='S_0')\n",
    "plt.plot(T_A_array, S_2, label='S_1')\n",
    "plt.xlabel('Atmospheric temperature T_A [C]') # label along x-axes\n",
    "plt.ylabel('Salinity [g/kg]') # label along x-axes\n",
    "plt.legend(loc='lower right')\n",
    "plt.suptitle('Varying atmospheric temperature T_A')\n",
    "plt.subplots_adjust(left=None, bottom=None, right=None, top=None, wspace=0.3, hspace=None)\n",
    "plt.show()"
   ]
  },
  {
   "cell_type": "code",
   "execution_count": 52,
   "metadata": {},
   "outputs": [
    {
     "data": {
      "image/png": "[encoded data removed]",
      "text/plain": [
       "<Figure size 648x216 with 2 Axes>"
      ]
     },
     "metadata": {
      "needs_background": "light"
     },
     "output_type": "display_data"
    }
   ],
   "source": [
    "S_1_array = [34.5,34.6,34.7,34.8,34.9,35,35.1,35.2,35.3,35.4,35.5,35.6]\n",
    "T_0 = np.zeros(len(S_1_array))\n",
    "T_2 = np.zeros(len(S_1_array))\n",
    "S_0 = np.zeros(len(S_1_array))\n",
    "S_2 = np.zeros(len(S_1_array))\n",
    "\n",
    "for i in range(len(S_1_array)):\n",
    "    S_1=S_1_array[i]\n",
    "    def main(x): # function with seven unkowns:  T_0,  T_2,  S_0,  S_2,  V_1, T_eddy, S_eddy \n",
    "             #                              x[0], x[1], x[2], x[3], x[4],   x[5],   x[6]\n",
    "        return [P*H*x[5]-A*Gamma*(x[0]-T_A)/(ro_0*C_p),\n",
    "                P*H*x[6]+A*E*S,\n",
    "                (T_1-x[1])*x[4]*H*L-(x[0] - T_A + (P*L/A)*(T_1-T_A))*A*Gamma/(ro_0*C_p),\n",
    "                (S_1-x[3])*x[4]*H*L+E*A*S+P*L*E*S,\n",
    "                g*H/(2*ro_0*f_0*L)*(alpha_T*(T_1-x[0])-alpha_S*(S_1-x[2]))-x[4],\n",
    "                c*x[4]*(T_1-x[0])-x[5],\n",
    "                c*x[4]*(S_1-x[2])-x[6]]\n",
    "    [T_0[i],T_2[i],S_0[i],S_2[i],V_1,T_eddy,S_eddy] = fsolve(main, [1,1,1,1,1,1,1])\n",
    "\n",
    "plt.figure(figsize=(9, 3))\n",
    "\n",
    "plt.subplot(121)\n",
    "plt.scatter(S_1_array, T_0, label='T_0')\n",
    "plt.scatter(S_1_array, T_2, label='T_2')\n",
    "plt.xlabel('Atmospheric temperature T_A [C]', fontsize=14) # label along x-axes\n",
    "plt.ylabel('Temperature [C]', fontsize=14) # label along x-axes\n",
    "plt.legend(loc='lower right')\n",
    "plt.subplot(122)\n",
    "plt.scatter(S_1_array, S_0, label='S_0')\n",
    "plt.scatter(S_1_array, S_2, label='S_1')\n",
    "plt.xlabel('Atmospheric temperature T_A [C]', fontsize=14) # label along x-axes\n",
    "plt.ylabel('Salinity [g/kg]', fontsize=14) # label along x-axes\n",
    "plt.legend(loc='lower right')\n",
    "plt.show()"
   ]
  },
  {
   "cell_type": "code",
   "execution_count": 53,
   "metadata": {},
   "outputs": [],
   "source": [
    "#### Two main equations #####\n",
    "\n",
    "#Interior temperature [Celsius] -> without the effect of salinity\n",
    "T_0 = T_1 - (mu/epsilon)*(M.sqrt(1+2*epsilon/mu)-1)*(T_1 - T_A)\n",
    "Delta_T = (T_1-T_0)/(T_1-T_A)\n",
    "\n",
    "#Interior salinity [g kg^-1]\n",
    "S_0 = S_1 + 2*A*E*S*ro_0*f_0*L/(g*c*P*H**2*alpha_T*(T_1-T_0))\n",
    "#Delta_S = 0.5*(Delta_T + M.sqrt(Delta_T**2 + gamma/epsilon)) #haline mode\n",
    "#S_0 = S_1 - Delta_S*alpha_T*(T_1-T_A)/alpha_S\n"
   ]
  },
  {
   "cell_type": "code",
   "execution_count": 54,
   "metadata": {},
   "outputs": [],
   "source": [
    "#### Follow up computations ####\n",
    "\n",
    "#Velocity in boundary current [m/s]\n",
    "V_1 = g*H/(2*ro_0*f_0*L)*(alpha_T*(T_1-T_0) - alpha_S*(S_1-S_0))\n",
    "\n",
    "#Outflowing salinity [g kg^-1]\n",
    "S_out = S_1 + E*A*S_0/(V_1*H*L)\n",
    "\n",
    "#Outflowing temperature [Celsius]\n",
    "T_out = A*Gamma/(ro_0*C_p*V_1*H*L)*(T_0-T_A+P*L/A*(T_1-T_A))\n",
    "\n",
    "#Densities -> not sure they are correct though..\n",
    "ro_1 = ro_0*(1-alpha_T*(T_1-T_0) + alpha_S*(S_1-S_0))\n",
    "ro_out = ro_0*(1-alpha_T*(T_out-T_0) + alpha_S*(S_out-S_0))\n",
    "\n",
    "#Downwelling/Medidional overturning strength at the sill [m^2/s]\n",
    "W = g*H**2*(ro_1 - ro_out)/(4*ro_0*f_0)"
   ]
  },
  {
   "cell_type": "code",
   "execution_count": 55,
   "metadata": {},
   "outputs": [
    {
     "data": {
      "text/plain": [
       "(9.369893716771712,\n",
       " 35.45000217174408,\n",
       " 0.16383637901600548,\n",
       " 35.426900460644184,\n",
       " 3.5319892931136367,\n",
       " -27695316295.930405)"
      ]
     },
     "execution_count": 55,
     "metadata": {},
     "output_type": "execute_result"
    }
   ],
   "source": [
    "T_0, S_0, V_1, S_out, T_out, W"
   ]
  },
  {
   "cell_type": "code",
   "execution_count": 56,
   "metadata": {},
   "outputs": [],
   "source": [
    "#Without salinity in the equation of state\n",
    "\n",
    "def main(x): # function with four unkowns: T_0, T_2, S_0, S_2 = x[0],x[1],x[2],x[3]\n",
    "    return [alpha_T*g/(2*ro_0*f_0)*(T_1-x[0])*H/L*c*(T_1-x[0])*P*H-A*Gamma*(x[0]-T_A)/(ro_0-T_A),                        \n",
    "           \n",
    "            alpha_T*g/(2*ro_0*f_0)*(T_1-x[0])*H/L*c*(S_1-x[2])*P*H+A*E*S,\n",
    "           \n",
    "            alpha_T*g/(2*ro_0*f_0)*((T_1-x[0])*H/L)*(T_1-x[1])*H*L+A*Gamma/(ro_0*C_p)*((1+P*L/A)*(T_1-T_A)-(T_1-x[0])),   \n",
    "                \n",
    "            alpha_T*g/(2*ro_0*f_0)*((T_1-x[0])*H/L)*(S_1-x[3])+E*A*S]          "
   ]
  },
  {
   "cell_type": "code",
   "execution_count": 57,
   "metadata": {},
   "outputs": [
    {
     "data": {
      "text/plain": [
       "array([ 7.00233564e+00,  1.11845850e+01,  3.55388362e+01, -2.20186171e+06])"
      ]
     },
     "execution_count": 57,
     "metadata": {},
     "output_type": "execute_result"
    }
   ],
   "source": [
    "root = fsolve(main, [1,1,1,1])\n",
    "root"
   ]
  },
  {
   "cell_type": "code",
   "execution_count": 58,
   "metadata": {},
   "outputs": [],
   "source": [
    "#Without salinity in the equation of state\n",
    "\n",
    "def main(x):\n",
    "    return[-x[0] + T_1 - (mu/epsilon)*(M.sqrt(1+2*epsilon/mu)-1)*(T_1 - T_A), \n",
    "           -x[1] + S_1 - 2*A*E*S*ro_0*f_0*L/(g*c*P*H**2*alpha_T*(T_1-x[0])),\n",
    "           -x[2] + A*Gamma/(ro_0*C_p*g*H/(2*ro_0*f_0*L)*(alpha_T*(T_1-x[0]) - alpha_S*(S_1-x[1]))*H*L)*(x[0]-T_A+P*L/A*(T_1-T_A)),\n",
    "           -x[3] + S_1 + E*A*S_0/(g*H/(2*ro_0*f_0*L)*(alpha_T*(T_1-x[0]) - alpha_S*(S_1-x[1]))*H*L)]"
   ]
  },
  {
   "cell_type": "code",
   "execution_count": 59,
   "metadata": {},
   "outputs": [
    {
     "data": {
      "text/plain": [
       "array([ 9.36989372, 35.74999783,  1.63147795, 35.52004277])"
      ]
     },
     "execution_count": 59,
     "metadata": {},
     "output_type": "execute_result"
    }
   ],
   "source": [
    "root = fsolve(main, [1,1,1,1])\n",
    "root"
   ]
  },
  {
   "cell_type": "code",
   "execution_count": 60,
   "metadata": {},
   "outputs": [],
   "source": [
    "#Including salinity in the equation of state\n",
    "\n",
    "def main(x):\n",
    "    return[ g*c*P*H**2*(alpha_T*(T_1-x[0])-alpha_S*(S_1-x[1]))*(T_1-x[0])/(2*ro_0*f_0*L)-A*Gamma*(x[0]-T_A)/(ro_0*C_p),\n",
    "            g*c*P*H**2*(alpha_T*(T_1-x[0])-alpha_S*(S_1-x[1]))*(S_1-x[1])/(2*ro_0*f_0*L) + A*E*S,\n",
    "            (T_1-x[2])*g*H/(2*ro_0*f_0*L)*(alpha_T*(T_1-x[0]) - alpha_S*(S_1-x[1]))*H*L - A*Gamma*(x[0]-T_A + P*L/A*(T_1-T_A))/(ro_0*C_p),\n",
    "            (S_1-x[3])*g*H/(2*ro_0*f_0*L)*(alpha_T*(T_1-x[0]) - alpha_S*(S_1-x[1]))*H*L + E*A*S + P*L*E*S]"
   ]
  },
  {
   "cell_type": "code",
   "execution_count": 61,
   "metadata": {},
   "outputs": [
    {
     "data": {
      "text/plain": [
       "array([ 8.85987874, 35.43464285,  8.96201986, 35.46308428])"
      ]
     },
     "execution_count": 61,
     "metadata": {},
     "output_type": "execute_result"
    }
   ],
   "source": [
    "root = fsolve(main, [1,1,1,1])\n",
    "root"
   ]
  },
  {
   "cell_type": "code",
   "execution_count": 66,
   "metadata": {},
   "outputs": [
    {
     "data": {
      "text/plain": [
       "(array([7.        , 7.00299328, 6.99985956, 6.99998572, 6.99999324,\n",
       "        6.99724469, 6.99998267, 7.09233838, 6.99770924, 0.        ]),\n",
       " array([ 1.99537729e+08,  1.96419833e+08,  2.32428096e+08, -5.51649557e+06,\n",
       "         3.12192128e+08, -7.44489206e+07, -1.82717865e+09,  8.12275715e+08,\n",
       "         7.51156301e+07,  0.00000000e+00]),\n",
       " array([  1.16941792,   1.28612645,   1.00000244, -42.28048995,\n",
       "          0.74726354,  -2.89557888,  -0.11671385,   1.01966204,\n",
       "          2.90984216,   5.7834376 ]),\n",
       " array([ 8.87000000e+00,  3.77895941e+06, -2.28033636e+05,  5.55521699e+02,\n",
       "        -1.46833733e+04,  1.54505741e+06,  2.41159012e+05,  1.47039350e+08,\n",
       "        -1.27824679e+06, -1.59226028e+04]),\n",
       " array([ 3.52000000e+01,  1.49965467e+07, -9.04936410e+05,  2.20427222e+03,\n",
       "        -5.82626173e+04,  6.13068139e+06,  9.56902440e+05,  5.83442071e+08,\n",
       "        -5.07199533e+06, -6.31798828e+04]),\n",
       " array([  1.16941792,   1.28612645,   1.00000244, -42.28048995,\n",
       "          0.74726354,  -2.89557888,  -0.11671385,   1.01966204,\n",
       "          2.90984216,   5.7834376 ]))"
      ]
     },
     "execution_count": 66,
     "metadata": {},
     "output_type": "execute_result"
    }
   ],
   "source": [
    "steps=10        # test values\n",
    "dx=10            # test values\n",
    "\n",
    "T_0 = np.zeros(steps)\n",
    "S_0 = np.zeros(steps)\n",
    "V = np.zeros(steps)\n",
    "T_1 = np.zeros(steps)\n",
    "S_1 = np.zeros(steps)\n",
    "\n",
    "T_1[0] = 8.87 \n",
    "S_1[0] = 35.2 \n",
    "\n",
    "for i in range(steps-1):\n",
    "    def main(x): # function with seven unkowns:  T_0,  S_0,    V, T_1+1, S_1+1,  V_+1 \n",
    "                 #                              x[0], x[1], x[2],  x[3],  x[4],  x[5]\n",
    "        return [c*x[2]*(T_1[i]-x[0])-A*Gamma*(x[0]-T_A)/(ro_0*C_p),\n",
    "                c*x[2]*(S_1[i]-x[1])-A*E*S,\n",
    "                x[3]-x[2]*(T_1[i]-x[0])*c*dx/(H*L*x[2])+T_1[i]*(x[5]-x[2])/x[2] - T_1[i],\n",
    "                x[5]-x[2]*(T_1[i]-x[0])*c*dx/(H*L*T_1[i])+x[2]*(x[3]-T_1[i])/T_1[i] - x[2],\n",
    "                x[4]-x[2]*(S_1[i]-x[1])*c*dx/(H*L*x[2])+S_1[i]*(x[5]-x[2])/x[2] - S_1[i],\n",
    "                x[5]-x[2]*(S_1[i]-x[1])*c*dx/(H*L*T_1[i])+x[2]*(x[4]-S_1[i])/S_1[i] - x[2]]\n",
    "\n",
    "    [T_0[i],S_0[i],V[i],T_1[i+1],S_1[i+1],V[i+1]] = fsolve(main, [1,1,1,1,1,1]) \n",
    "    # V[i] and V[i+1] are calculated at the same time - that's not so good I think\n",
    "    \n",
    "T_0,S_0,V,T_1,S_1,V"
   ]
  },
  {
   "cell_type": "code",
   "execution_count": null,
   "metadata": {},
   "outputs": [],
   "source": []
  }
 ],
 "metadata": {
  "kernelspec": {
   "display_name": "Python 3",
   "language": "python",
   "name": "python3"
  },
  "language_info": {
   "codemirror_mode": {
    "name": "ipython",
    "version": 3
   },
   "file_extension": ".py",
   "mimetype": "text/x-python",
   "name": "python",
   "nbconvert_exporter": "python",
   "pygments_lexer": "ipython3",
   "version": "3.7.3"
  }
 },
 "nbformat": 4,
 "nbformat_minor": 2
}
