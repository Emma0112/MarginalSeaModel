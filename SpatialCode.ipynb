{
 "cells": [
  {
   "cell_type": "code",
   "execution_count": 1,
   "metadata": {},
   "outputs": [],
   "source": [
    "import numpy as np  # http://www.numpy.org\n",
    "import matplotlib.pyplot as plt   # http://matplotlib.org\n",
    "import math as M\n",
    "from scipy.optimize import fsolve"
   ]
  },
  {
   "cell_type": "markdown",
   "metadata": {},
   "source": [
    "### Things we need to check:\n",
    "\n",
    "* our A and Lambert's A are different! We should in general check the dimensions of our basin again\n",
    "\n",
    "* the perimeter P is in accordance though\n",
    "\n",
    "* is our value for c still accurate?\n",
    "\n",
    "* Dx strongly impacts our H1 output, what can we do about this?\n"
   ]
  },
  {
   "cell_type": "code",
   "execution_count": 21,
   "metadata": {},
   "outputs": [],
   "source": [
    "############ Initilisation #################\n",
    "############################################\n",
    "\n",
    "#### Constants #####\n",
    "L_x = 1e6          # [m] zonal extent \n",
    "L_y = 2e6          # [m] meridional extent \n",
    "A = L_x*L_y        # [m^2] surface area of interior \n",
    "P = 2*L_x+2*L_y    # [m] Perimeter \n",
    "\n",
    "g = 9.81           # [m/s^2] gravitational acceleration \n",
    "c = 0.006          # [] bottom slope coefficient\n",
    "s = 0.02           # [] average bottom slope around the perimeter of the marginal sea\n",
    "\n",
    "c_theta = 0.007    # [] eddy coefficient halocline\n",
    "alpha = 1e-4       # [1/C] thermal expansion coefficient\n",
    "C_p = 4.2e6        # [J/(m^3*C)] specific heat capacity of sea water \n",
    "H_t = 1e3          # [m] depth interior\n",
    "H_s = 2e2          # [m] depth shelves\n",
    "W_c = 1e5          # [m] width slope\n",
    "rho_0 = 1028       # [kg m^-3] reference density sea water \n",
    "\n",
    "f_0 = 1.4e-4       # [s^-1] Coriolis parameter \n",
    "Gamma = 20         # [W/(m^2 C)] Restoring strength \n",
    "T_A = -2           # [Celsius] Atmospheric temperature \n",
    "\n",
    "#### Initilisation ####\n",
    "steps=10# number of spatial steps\n",
    "Dx=P/steps         # size of spatial steps\n",
    "\n",
    "T_0 = np.zeros(steps)\n",
    "H_1 = np.zeros(steps)\n",
    "T_1 = np.zeros(steps)\n",
    "\n",
    "T_1[0] = 8         # [C] Inflow AW temperature\n",
    "H_1[0] = 600       # [m] Inflow AW thickness\n",
    "T_0[0] = 4         # [C] First guess interior DW temperature"
   ]
  },
  {
   "cell_type": "code",
   "execution_count": null,
   "metadata": {},
   "outputs": [],
   "source": [
    "P"
   ]
  },
  {
   "cell_type": "markdown",
   "metadata": {},
   "source": [
    "Equations I use below \n",
    "\n",
    "\\begin{align}\n",
    "\\kappa_{\\theta} - \\frac{c \\, g \\, \\Delta\\rho_{\\theta} \\, H_1^2 * (H_t-H_s)}{2 \\, f\\, \\rho_0 \\, W_c (H_t-H_1)} = 0\\\\\n",
    "\\\\\n",
    "C_p \\, \\Psi_1 \\, \\frac{d T_1}{dx} + Q_1 \\, W_c =0\\\\\n",
    "\\\\\n",
    "\\frac{d H_1}{dx} + \\frac{f \\, \\kappa_{\\theta}}{g \\, \\alpha (T_1-T_0) H_1} - \\frac{\\Gamma \\, W_c \\, f \\, (T_1-T_A)}{C_p \\, g \\, \\alpha (T_1 - T_0)^2 H_1} =0 \\\\\n",
    "\\\\\n",
    "\\Psi_1 - \\frac{g \\, \\Delta\\rho_{\\theta} H_1^2}{2 \\, f \\, \\rho_0}=0\\\\\n",
    "\\\\\n",
    "Q_1-\\Gamma (T_1-T_A)=0\\\\\n",
    "\\\\\n",
    "\\Delta\\rho_{\\theta} - \\rho_0 \\alpha (T_1-T_0) =0\n",
    "\\end{align}"
   ]
  },
  {
   "cell_type": "code",
   "execution_count": 22,
   "metadata": {},
   "outputs": [],
   "source": [
    "integral=0.0\n",
    "for i in range(1,steps-1):\n",
    "    def main(x): # function with six unkowns:  T_1,  H_1, kappa_theta, psi_1, Q_1, delta_rho_theta\n",
    "                 #                             x[0]  x[1]     x[2]      x[3]  x[4]      x[5]\n",
    "        return [x[2]-(c*g*x[5]*(x[1]**2)*(H_t-H_s))/(2*f_0*rho_0*W_c*(H_t-x[1])),\n",
    "                C_p*x[3]*((x[0]-T_1[i-1])/Dx)+x[4]*W_c,\n",
    "                ((x[1]-H_1[i-1])/Dx)+((f_0*x[2])/(g*alpha*(x[0]-T_0[i-1])*x[1]))-((Gamma*W_c*f_0*(x[0]-T_A))/(C_p*g*alpha*(x[0]-T_0[i-1])**2)*x[1]),\n",
    "                x[3]-(g*x[5]*x[1]**2)/(2*f_0*rho_0),\n",
    "                x[4]-Gamma*(x[0]-T_A),\n",
    "                x[5]-rho_0*alpha*(x[0]-T_0[i-1])]\n",
    "    [T_1[i], H_1[i], kappa_theta, psi_1, Q_1, delta_rho_theta] = fsolve(main, [1,1,1,1,1,1]) \n",
    "    integral=integral+(kappa_theta*(T_1[i]-T_0[i-1]))\n",
    "    T_0[i]=T_A+(C_p)/(Gamma*A)*integral"
   ]
  },
  {
   "cell_type": "code",
   "execution_count": 23,
   "metadata": {},
   "outputs": [
    {
     "data": {
      "text/plain": [
       "array([ 8.        , -1.99842406, -2.        , -2.        , -2.        ,\n",
       "       -2.        , -2.        , -2.        , -2.        ,  0.        ])"
      ]
     },
     "execution_count": 23,
     "metadata": {},
     "output_type": "execute_result"
    }
   ],
   "source": [
    "T_1"
   ]
  },
  {
   "cell_type": "code",
   "execution_count": 28,
   "metadata": {},
   "outputs": [
    {
     "data": {
      "image/png": "[encoded data removed]",
      "text/plain": [
       "<Figure size 432x288 with 3 Axes>"
      ]
     },
     "metadata": {
      "needs_background": "light"
     },
     "output_type": "display_data"
    }
   ],
   "source": [
    "x=np.linspace(0,steps*Dx,steps)\n",
    "\n",
    "plt.subplot(131)\n",
    "plt.plot(x, T_1, label='$T_1$')\n",
    "plt.xlabel('length x [m]')\n",
    "plt.ylabel('temperature [C]')\n",
    "plt.legend(loc='upper right')\n",
    "plt.subplot(132)\n",
    "plt.plot(x, H_1, label='$H_1$')\n",
    "plt.xlabel('length x [m]')\n",
    "plt.ylabel('depth [m]')\n",
    "plt.legend(loc='upper right')\n",
    "plt.subplot(133)\n",
    "plt.plot(x, T_0, label='$H_1$')\n",
    "plt.xlabel('length x [m]')\n",
    "plt.ylabel('depth [m]')\n",
    "plt.legend(loc='upper right')\n",
    "plt.suptitle('simple plot')\n",
    "plt.subplots_adjust(left=None, bottom=None, right=None, top=None, wspace=0.3, hspace=None)\n",
    "plt.show()\n",
    "#plt.savefig('simpleplot.png', dpi=300, bbox_inches='tight')"
   ]
  },
  {
   "cell_type": "code",
   "execution_count": null,
   "metadata": {},
   "outputs": [],
   "source": [
    "\n"
   ]
  },
  {
   "cell_type": "markdown",
   "metadata": {},
   "source": [
    "For the root finding algorithm\n",
    "\n",
    "\\begin{align}\n",
    "    C_p \\psi_1(x) \\frac{T_1^{x+1}-T_1^{x}}{\\Delta x} + \\Gamma (T_0-T_A) L_1 =0\\\\\n",
    "    \\frac{H_1^{x+1}-H_1^{x}}{\\Delta x} + \\frac{f_0 \\rho_0}{g \\Delta \\rho_{\\theta}(x)} \\left(\\frac{\\kappa_{\\theta}(x)}{H_1(x)}\\frac{\\Gamma (T_1(x)-T_A) L_1}{C_p (T_1(x)-T_0)H_1(x)}\\right) = 0\n",
    "\\end{align}\n",
    "\n",
    "with the following functions\n",
    "\n",
    "\\begin{align}\n",
    "    \\psi_1(x) = \\frac{g \\Delta\\rho_{\\theta}(x) H_1^2(x)}{2 f_0 \\rho_{ref}}\\\\\n",
    "    \\Delta \\rho_{\\theta} (x) = \\rho_{ref} \\alpha_T(T_1(x)-T_0)\\\\\n",
    "    \\kappa_{\\theta} =  \\frac{c_{\\theta} g \\alpha (T_1(x)-T_0)H_1^2 (H_t-H_s)}{2 f W_c (H_t-H_1)}\n",
    "\\end{align}\n",
    "\n",
    "combining those lead to these equations and set $T_1^{x+1}=T_1(x)$, $T_1^{x}=T_1(x-1)$ and $H_1^{x+1}=H_1(x)$, $H_1^{x}=H_1(x-1)$\n",
    "\n",
    "\\begin{align}\n",
    "    C_p \\left(\\frac{g \\left(\\rho_{ref} \\alpha_T(T_1(x)-T_0)\\right) H_1^2(x)}{2 f_0 \\rho_{ref}} \\right) \\frac{T_1(x)-T_1(x-1)}{\\Delta x} + \\Gamma (T_0-T_A) L_1 =0\\\\\n",
    "    \\frac{H_1(x)-H_1(x-1)}{\\Delta x} + \\frac{f_0 \\rho_0}{g \\left(\\rho_{ref} \\alpha_T(T_1(x)-T_0)\\right)} \\left[\\frac{\\left(\\frac{c_{\\theta} g \\alpha (T_1(x)-T_0)H_1^2(x) (H_t-H_s)}{2 f W_c (H_t-H_1(x))}\\right)}{H_1(x)}\\frac{\\Gamma (T_1(x)-T_A) L_1}{C_p (T_1(x)-T_0)H_1(x)}\\right] = 0\n",
    "\\end{align}\n",
    "\n"
   ]
  },
  {
   "cell_type": "code",
   "execution_count": null,
   "metadata": {},
   "outputs": [],
   "source": [
    "c_theta = 0.007    # [] eddy coefficient halocline\n",
    "alpha = 1e-4       # [1/C] thermal expansion coefficient\n",
    "C_p = 4.2e6        # [J/(m^3*C)]\n",
    "H_t = 1e3          # [m] depth interior\n",
    "H_s = 2e2          # [m] depth shelves\n",
    "W_c = 1e5          # [m] width slope\n",
    "rho_0 = 1028     # [kg m^-3] reference density sea water \n",
    "\n",
    "steps=100          # test values\n",
    "Dx=10              # test values\n",
    "\n",
    "T_0 = np.zeros(steps)\n",
    "H_1 = np.zeros(steps)\n",
    "T_1 = np.zeros(steps)\n",
    "\n",
    "\n",
    "T_1[0] = 8.87 \n",
    "H_1[0] = 35.2 \n",
    "T_0[0] = 5.3\n",
    "integral=0.0\n",
    "\n",
    "for i in range(1,steps-1):\n",
    "    integral=integral+(c_theta*g*alpha*(T_1[i-1]-T_0[i-1])*H_1[i-1]**2*(H_t-H_s))/(2*f_0*W_c*(H_t-H_1[i-1]))*(T_1[i-1]-T_0[i-1])\n",
    "    T_0[i]=T_A+(C_p)/(Gamma*A)*integral\n",
    "    def main(x): # function with two unkowns:  T_1 = x[0],  H_1 = x[1]\n",
    "        return [C_p*((g*(rho_0*alpha_T*(x[0]-T_0[i])*x[1]**2))/(2*f_0*rho_0))*(x[0]-T_1[i-1])/(Dx)+Gamma*(T_0[i]-T_A)*A,\n",
    "                     (x[1]-H_1[i-1])/(Dx)+(f_0*rho_0)/(g*(rho_0*alpha_T*(x[0]-T_0[i])))*((c_theta*g*alpha*(x[0]-T_0[i])*x[1]**2*(H_t-H_s))/(2*f_0*W_c*(H_t-x[1]))*Gamma*(x[0]-T_A)*A/(x[1]*C_p*(x[0]-T_0[i])*x[1]))]\n",
    "    [T_1[i], H_1[i]] = fsolve(main, [1,1]) \n",
    "                                                                                            "
   ]
  }
 ],
 "metadata": {
  "kernelspec": {
   "display_name": "Python 3",
   "language": "python",
   "name": "python3"
  },
  "language_info": {
   "codemirror_mode": {
    "name": "ipython",
    "version": 3
   },
   "file_extension": ".py",
   "mimetype": "text/x-python",
   "name": "python",
   "nbconvert_exporter": "python",
   "pygments_lexer": "ipython3",
   "version": "3.7.4"
  }
 },
 "nbformat": 4,
 "nbformat_minor": 2
}
