{
 "cells": [
  {
   "cell_type": "code",
   "execution_count": 1,
   "metadata": {},
   "outputs": [],
   "source": [
    "import numpy as np  # http://www.numpy.org\n",
    "import matplotlib.pyplot as plt   # http://matplotlib.org\n",
    "import math as M\n",
    "from scipy.optimize import fsolve#\n",
    "from scipy.integrate import quad"
   ]
  },
  {
   "cell_type": "markdown",
   "metadata": {},
   "source": [
    "### Things we need to check:\n",
    "\n",
    "* our A and Lambert's A are different! We should in general check the dimensions of our basin again\n",
    "\n",
    "* the perimeter P is in accordance though\n",
    "\n",
    "* is our value for c still accurate?\n",
    "\n",
    "* Dx strongly impacts our H1 output, what can we do about this?\n"
   ]
  },
  {
   "cell_type": "code",
   "execution_count": 58,
   "metadata": {},
   "outputs": [],
   "source": [
    "############ Initilisation #################\n",
    "############################################\n",
    "\n",
    "#### Constants #####\n",
    "L_x = 1e6          # [m] zonal extent \n",
    "L_y = 2e6          # [m] meridional extent \n",
    "A = L_x*L_y        # [m^2] surface area of interior \n",
    "P = 2*L_x+2*L_y    # [m] Perimeter \n",
    "\n",
    "g = 9.81           # [m/s^2] gravitational acceleration \n",
    "c_theta = 0.5      # [] eddy coefficient thermocline\n",
    "alpha = 1e-4       # [1/C] thermal expansion coefficient\n",
    "C_p = 4.2e6        # [J/(m^3*C)] specific heat capacity of sea water \n",
    "H_t = 1000          # [m] depth interior\n",
    "H_s = 200          # [m] depth shelves\n",
    "W_c = 1e5          # [m] width slope\n",
    "rho_0 = 1028       # [kg m^-3] reference density sea water \n",
    "\n",
    "f_0 = 1.4e-4       # [s^-1] Coriolis parameter \n",
    "Gamma = 10         # [W/(m^2 C)] Restoring strength \n",
    "T_A = -2            # [Celsius] Atmospheric temperature \n",
    "\n",
    "#### Initilisation ####\n",
    "steps=100         # number of spatial steps\n",
    "Dx=P/steps         # size of spatial steps\n",
    "\n",
    "T_0 = np.zeros(steps)\n",
    "H_1 = np.zeros(steps)\n",
    "T_1 = np.zeros(steps)\n",
    "kappa_theta= np.zeros(steps-1)\n",
    "\n",
    "T_1[0] = 6         # [C] Inflow AW temperature\n",
    "H_1[0] = 600      # [m] Inflow AW thickness\n",
    "T_0[0] = 2       # [C] First guess interior DW temperature"
   ]
  },
  {
   "cell_type": "code",
   "execution_count": 59,
   "metadata": {},
   "outputs": [],
   "source": [
    "integral=0.0\n",
    "for i in range(1,steps):\n",
    "    def main(x): # function with six unkowns:  T_1,  H_1, kappa_theta, psi_1, Q_1, delta_rho_theta\n",
    "                 #                             x[0]  x[1]     x[2]      x[3]  x[4]      x[5]\n",
    "        return [C_p*((g*(rho_0*alpha*(x[0]-T_0[i-1]))*x[1]**2)/(2*f_0*rho_0))*((x[0]-T_1[i-1])/Dx)+(Gamma*(x[0]-T_A))*W_c,\n",
    "                ((x[1]-H_1[i-1])/Dx)+((f_0*((c_theta*g*(rho_0*alpha*(x[0]-T_0[i-1]))*(x[1]**2)*(H_t-H_s))/(2*f_0*rho_0*W_c*(H_t-x[1]))))/(g*alpha*(x[0]-T_0[i-1])*x[1]))-((Gamma*W_c*f_0*(x[0]-T_A))/(C_p*g*alpha*(x[0]-T_0[i-1])**2)*x[1])]\n",
    "    [T_1[i], H_1[i]] = fsolve(main, [T_1[i-1],H_1[i-1]]) \n",
    "    integral=integral+Dx*(((c_theta*g*(rho_0*alpha*(T_1[i]-T_0[i-1]))*(H_1[i]**2)*(H_t-H_s))/(2*f_0*rho_0*W_c*(H_t-H_1[i])))*(T_1[i]-T_0[i-1]))\n",
    "    T_0[i]=T_A+(C_p)/(Gamma*A)*integral"
   ]
  },
  {
   "cell_type": "code",
   "execution_count": 65,
   "metadata": {
    "scrolled": true
   },
   "outputs": [
    {
     "data": {
      "image/png": "[encoded data removed]",
      "text/plain": [
       "<Figure size 1008x288 with 2 Axes>"
      ]
     },
     "metadata": {
      "needs_background": "light"
     },
     "output_type": "display_data"
    }
   ],
   "source": [
    "x=np.linspace(0+Dx,steps*Dx,steps)*1e-5\n",
    "\n",
    "fig, axs = plt.subplots(1, 2,figsize=(14, 4))\n",
    "axs[0].plot(x, T_1, linewidth=3, label='T_1', color='darkred')\n",
    "axs[0].plot(x, T_0, linewidth=3, label='T_0', color='green')\n",
    "axs[0].set(xlabel=r'Position x $[m \\times 10^{5}]$', ylabel='Temperature [°C]')\n",
    "axs[0].legend(loc='best')\n",
    "axs[1].plot(x, H_1, linewidth=3, label='H_1', color='darkblue')\n",
    "axs[1].set(xlabel=r'Position x $[m \\times 10^{5}]$', ylabel=r'Depth of the boundary current $H_1$ [m]')\n",
    "axs[1].legend(loc='best')\n",
    "plt.suptitle('Spatial model for 10 spatial steps')\n",
    "plt.show()\n",
    "#plt.savefig('Spatial-2.png', dpi=300, bbox_inches='tight')\n"
   ]
  },
  {
   "cell_type": "code",
   "execution_count": 66,
   "metadata": {},
   "outputs": [
    {
     "data": {
      "text/plain": [
       "array([ 6.        ,  5.97542011,  5.96090605,  5.8051126 ,  5.68069319,\n",
       "        5.59191791,  5.52113017,  5.45960163,  5.37794608,  5.43455218,\n",
       "        5.48397786,  5.51758919,  5.54699021,  5.56884135,  5.58806475,\n",
       "        5.60265319,  5.61555218,  5.62546078,  5.63418001,  5.64089438,\n",
       "        5.6468429 ,  5.6520959 ,  5.65498318,  5.64243517,  5.64199039,\n",
       "        5.64164533,  5.64105559,  5.64077225, -2.00609506, -1.99999613,\n",
       "       -2.        , -2.        , -2.        , -2.        , -2.        ,\n",
       "       -2.        , -2.        , -2.        , -2.        , -2.        ,\n",
       "       -2.        , -2.        , -2.        , -2.        , -2.        ,\n",
       "       -2.        , -2.        , -2.        , -2.        , -2.        ,\n",
       "       -2.        , -2.        , -2.        , -2.        , -2.        ,\n",
       "       -2.        , -2.        , -2.        , -2.        , -2.        ,\n",
       "       -2.        , -2.        , -2.        , -2.        , -2.        ,\n",
       "       -2.        , -2.        , -2.        , -2.        , -2.        ,\n",
       "       -2.        , -2.        , -2.        , -2.        , -2.        ,\n",
       "       -2.        , -2.        , -2.        , -2.        , -2.        ,\n",
       "       -2.        , -2.        , -2.        , -2.        , -2.        ,\n",
       "       -2.        , -2.        , -2.        , -2.        , -2.        ,\n",
       "       -2.        , -2.        , -2.        , -2.        , -2.        ,\n",
       "       -2.        , -2.        , -2.        , -2.        , -2.        ])"
      ]
     },
     "execution_count": 66,
     "metadata": {},
     "output_type": "execute_result"
    }
   ],
   "source": [
    "T_1"
   ]
  },
  {
   "cell_type": "code",
   "execution_count": null,
   "metadata": {},
   "outputs": [],
   "source": []
  },
  {
   "cell_type": "code",
   "execution_count": null,
   "metadata": {},
   "outputs": [],
   "source": []
  }
 ],
 "metadata": {
  "kernelspec": {
   "display_name": "Python 3",
   "language": "python",
   "name": "python3"
  },
  "language_info": {
   "codemirror_mode": {
    "name": "ipython",
    "version": 3
   },
   "file_extension": ".py",
   "mimetype": "text/x-python",
   "name": "python",
   "nbconvert_exporter": "python",
   "pygments_lexer": "ipython3",
   "version": "3.7.4"
  }
 },
 "nbformat": 4,
 "nbformat_minor": 2
}
