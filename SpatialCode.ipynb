{
 "cells": [
  {
   "cell_type": "code",
   "execution_count": 11,
   "metadata": {},
   "outputs": [],
   "source": [
    "import numpy as np  # http://www.numpy.org\n",
    "import matplotlib.pyplot as plt   # http://matplotlib.org\n",
    "import math as M\n",
    "from scipy.optimize import fsolve"
   ]
  },
  {
   "cell_type": "code",
   "execution_count": 12,
   "metadata": {},
   "outputs": [],
   "source": [
    "############ Initilisation #################\n",
    "############################################\n",
    "\n",
    "#### Constants #####\n",
    "L_x = 1e6          # [m] zonal extent \n",
    "L_y = 2e6          # [m] meridional extent \n",
    "A = L_x*L_y        # [m^2] surface area of interior \n",
    "P = 2*L_x+2*L_y    # [m] Perimeter \n",
    "\n",
    "g = 9.81           # [m/s^2] gravitational acceleration \n",
    "#C_p = 3.994e3      # [J/(kg K)] specific heat capacity of sea water \n",
    "c = 0.006          # [] bottom slope coefficient\n",
    "s = 0.02           # [] average bottom slope around the perimeter of the marginal sea\n",
    "\n",
    "#### Parameters ####\n",
    "H = 1000           # [m] sill height \n",
    "f_0 = 1.2e-4       # [s^-1] Coriolis parameter \n",
    "Gamma = 20         # [W/(m^2 C)] Restoring strength \n",
    "#alpha_T = 0.2      # [kg m^-3 C^-1] thermal expansion coefficient; source: Ypma[2020]\n",
    "#alpha_S = 0.8      # [kg m^-3] Haline expansion coefficient \n",
    "#T_1 = 8.87        # [Celsius] ingoing temperature \n",
    "T_A = 2.8          # [Celsius] Atmospheric temperature \n",
    "#ro = 1028          # [kg m^-3] density sea water \n",
    "S = 35             # [ppt] net evaporation minus precipitation\n",
    "#S_1 = 35.2        # [g kg^-1] incoming salinity; source Lambert                          ! is ppt = g kg^-1 ???\n",
    "E = -2e-8          # [m/s] a representative ocean salinity; source: Spall[2015]\n",
    "\n",
    "#### functions ####\n",
    "L = H/s           # [m] width of sloping topography of the boundary current \n",
    "#L = 75e3"
   ]
  },
  {
   "cell_type": "markdown",
   "metadata": {},
   "source": [
    "For the root finding algorithm\n",
    "\n",
    "\\begin{align}\n",
    "    C_p \\psi_1(x) \\frac{T_1^{x+1}-T_1^{x}}{\\Delta x} + \\Gamma (T_0-T_A) L_1 =0\\\\\n",
    "    \\frac{H_1^{x+1}-H_1^{x}}{\\Delta x} + \\frac{f_0 \\rho_0}{g \\Delta \\rho_{\\theta}(x)} \\left(\\frac{\\kappa_{\\theta}(x)}{H_1(x)}\\frac{\\Gamma (T_1(x)-T_A) L_1}{C_p (T_1(x)-T_0)H_1(x)}\\right) = 0\n",
    "\\end{align}\n",
    "\n",
    "with the following functions\n",
    "\n",
    "\\begin{align}\n",
    "    \\psi_1(x) = \\frac{g \\Delta\\rho_{\\theta}(x) H_1^2(x)}{2 f_0 \\rho_{ref}}\\\\\n",
    "    \\Delta \\rho_{\\theta} (x) = \\rho_{ref} \\alpha_T(T_1(x)-T_0)\\\\\n",
    "    \\kappa_{\\theta} =  \\frac{c_{\\theta} g \\alpha (T_1(x)-T_0)H_1^2 (H_t-H_s)}{2 f W_c (H_t-H_1)}\n",
    "\\end{align}\n",
    "\n",
    "combining those lead to these equations and set $T_1^{x+1}=T_1(x)$, $T_1^{x}=T_1(x-1)$ and $H_1^{x+1}=H_1(x)$, $H_1^{x}=H_1(x-1)$\n",
    "\n",
    "\\begin{align}\n",
    "    C_p \\left(\\frac{g \\left(\\rho_{ref} \\alpha_T(T_1(x)-T_0)\\right) H_1^2(x)}{2 f_0 \\rho_{ref}} \\right) \\frac{T_1(x)-T_1(x-1)}{\\Delta x} + \\Gamma (T_0-T_A) L_1 =0\\\\\n",
    "    \\frac{H_1(x)-H_1(x-1)}{\\Delta x} + \\frac{f_0 \\rho_0}{g \\left(\\rho_{ref} \\alpha_T(T_1(x)-T_0)\\right)} \\left[\\frac{\\left(\\frac{c_{\\theta} g \\alpha (T_1(x)-T_0)H_1^2(x) (H_t-H_s)}{2 f W_c (H_t-H_1(x))}\\right)}{H_1(x)}\\frac{\\Gamma (T_1(x)-T_A) L_1}{C_p (T_1(x)-T_0)H_1(x)}\\right] = 0\n",
    "\\end{align}\n",
    "\n"
   ]
  },
  {
   "cell_type": "code",
   "execution_count": 29,
   "metadata": {},
   "outputs": [
    {
     "name": "stderr",
     "output_type": "stream",
     "text": [
      "/Users/ina/opt/anaconda3/lib/python3.7/site-packages/scipy/optimize/minpack.py:162: RuntimeWarning: The iteration is not making good progress, as measured by the \n",
      "  improvement from the last ten iterations.\n",
      "  warnings.warn(msg, RuntimeWarning)\n"
     ]
    }
   ],
   "source": [
    "c_theta = 0.007    # [] eddy coefficient halocline\n",
    "alpha = 1e-4       # [1/C] thermal expansion coefficient\n",
    "C_p = 4.2e6        # [J/(m^3*C)]\n",
    "H_t = 1e3          # [m] depth interior\n",
    "H_s = 2e2          # [m] depth shelves\n",
    "W_c = 1e5          # [m] width slope\n",
    "rho_0 = 1028     # [kg m^-3] reference density sea water \n",
    "\n",
    "steps=100          # test values\n",
    "Dx=10              # test values\n",
    "\n",
    "T_0 = np.zeros(steps)\n",
    "H_1 = np.zeros(steps)\n",
    "T_1 = np.zeros(steps)\n",
    "\n",
    "\n",
    "T_1[0] = 8.87 \n",
    "H_1[0] = 35.2 \n",
    "T_0[0] = 5.3\n",
    "integral=0.0\n",
    "\n",
    "for i in range(1,steps-1):\n",
    "    integral=integral+(c_theta*g*alpha*(T_1[i-1]-T_0[i-1])*H_1[i-1]**2*(H_t-H_s))/(2*f_0*W_c*(H_t-H_1[i-1]))*(T_1[i-1]-T_0[i-1])\n",
    "    T_0[i]=T_A+(C_p)/(Gamma*A)*integral\n",
    "    def main(x): # function with two unkowns:  T_1 = x[0],  H_1 = x[1]\n",
    "        return [C_p*((g*(rho_0*alpha_T*(x[0]-T_0[i])*x[1]**2))/(2*f_0*rho_0))*(x[0]-T_1[i-1])/(Dx)+Gamma*(T_0[i]-T_A)*A,\n",
    "                     (x[1]-H_1[i-1])/(Dx)+(f_0*rho_0)/(g*(rho_0*alpha_T*(x[0]-T_0[i])))*((c_theta*g*alpha*(x[0]-T_0[i])*x[1]**2*(H_t-H_s))/(2*f_0*W_c*(H_t-x[1]))*Gamma*(x[0]-T_A)*A/(x[1]*C_p*(x[0]-T_0[i])*x[1]))]\n",
    "    [T_1[i], H_1[i]] = fsolve(main, [1,1]) \n",
    "                                                                                            "
   ]
  },
  {
   "cell_type": "code",
   "execution_count": 30,
   "metadata": {},
   "outputs": [
    {
     "data": {
      "text/plain": [
       "(array([8.87      , 1.        , 1.00000255, 1.00000511, 1.00000768,\n",
       "        1.00001026, 1.00001284, 1.00001543, 1.00001803, 1.00002063,\n",
       "        1.00002325, 1.00002587, 1.0000285 , 1.00003113, 1.00003378,\n",
       "        1.00003643, 1.00003909, 1.00004175, 1.00004443, 1.00004711,\n",
       "        1.0000498 , 1.0000525 , 1.0000552 , 1.00005792, 1.00006064,\n",
       "        1.00006337, 1.00006611, 1.00006885, 1.00007161, 1.00007437,\n",
       "        1.00007714, 1.00007992, 1.00008271, 1.0000855 , 1.00008831,\n",
       "        1.00009112, 1.00009394, 1.00009677, 1.0000996 , 1.00010245,\n",
       "        1.0001053 , 1.00010817, 1.00011104, 1.00011392, 1.00011681,\n",
       "        1.00011971, 1.00012261, 1.00012553, 1.00012845, 1.00013138,\n",
       "        1.00013432, 1.00013728, 1.00014023, 1.0001432 , 1.00014618,\n",
       "        1.00014917, 1.00015216, 1.00015517, 1.00015818, 1.00016121,\n",
       "        1.00016424, 1.00016728, 1.00017033, 1.00017339, 1.00017646,\n",
       "        1.00017954, 1.00018263, 1.00018573, 1.00018884, 1.00019196,\n",
       "        1.00019508, 1.00019822, 1.00020137, 1.00020452, 1.00020769,\n",
       "        1.00021087, 1.00021405, 1.00021725, 1.00022046, 1.00022367,\n",
       "        1.0002269 , 1.00023014, 1.00023339, 1.00023664, 1.00023991,\n",
       "        1.00024319, 1.00024648, 1.00024978, 1.00025308, 1.0002564 ,\n",
       "        1.00025974, 1.00026308, 1.00026643, 1.00026979, 1.00027316,\n",
       "        1.00027655, 1.00027994, 1.00028335, 1.00028677, 0.        ]),\n",
       " array([35.2       ,  1.        ,  0.99866533,  0.99733067,  0.99599601,\n",
       "         0.99466135,  0.99332669,  0.99199203,  0.99065737,  0.98932272,\n",
       "         0.98798807,  0.98665342,  0.98531877,  0.98398412,  0.98264948,\n",
       "         0.98131484,  0.97998019,  0.97864555,  0.97731092,  0.97597628,\n",
       "         0.97464165,  0.97330701,  0.97197238,  0.97063776,  0.96930313,\n",
       "         0.9679685 ,  0.96663388,  0.96529926,  0.96396464,  0.96263002,\n",
       "         0.9612954 ,  0.95996079,  0.95862618,  0.95729157,  0.95595696,\n",
       "         0.95462235,  0.95328774,  0.95195314,  0.95061854,  0.94928394,\n",
       "         0.94794934,  0.94661474,  0.94528015,  0.94394555,  0.94261096,\n",
       "         0.94127637,  0.93994179,  0.9386072 ,  0.93727262,  0.93593803,\n",
       "         0.93460345,  0.93326887,  0.9319343 ,  0.93059972,  0.92926515,\n",
       "         0.92793058,  0.92659601,  0.92526144,  0.92392687,  0.92259231,\n",
       "         0.92125774,  0.91992318,  0.91858862,  0.91725407,  0.91591951,\n",
       "         0.91458496,  0.9132504 ,  0.91191585,  0.91058131,  0.90924676,\n",
       "         0.90791221,  0.90657767,  0.90524313,  0.90390859,  0.90257405,\n",
       "         0.90123952,  0.89990498,  0.89857045,  0.89723592,  0.89590139,\n",
       "         0.89456686,  0.89323234,  0.89189781,  0.89056329,  0.88922877,\n",
       "         0.88789425,  0.88655974,  0.88522522,  0.88389071,  0.8825562 ,\n",
       "         0.88122169,  0.87988718,  0.87855268,  0.87721817,  0.87588367,\n",
       "         0.87454917,  0.87321467,  0.87188017,  0.87054568,  0.        ]))"
      ]
     },
     "execution_count": 30,
     "metadata": {},
     "output_type": "execute_result"
    }
   ],
   "source": [
    "T_1, H_1"
   ]
  },
  {
   "cell_type": "code",
   "execution_count": 27,
   "metadata": {},
   "outputs": [
    {
     "data": {
      "image/png": "[encoded data removed]",
      "text/plain": [
       "<Figure size 648x216 with 2 Axes>"
      ]
     },
     "metadata": {
      "needs_background": "light"
     },
     "output_type": "display_data"
    }
   ],
   "source": [
    "''''''\n",
    "\n",
    "x=np.linspace(0,steps*dx,steps)\n",
    "\n",
    "plt.figure(figsize=(9, 3))\n",
    "\n",
    "plt.subplot(121)\n",
    "plt.plot(x, T_0, label='interior T_0')\n",
    "plt.plot(x, T_1, label='outgoing T_1')\n",
    "plt.xlabel('length x [m]')\n",
    "plt.ylabel('temperature [C]')\n",
    "plt.legend(loc='lower right')\n",
    "plt.subplot(122)\n",
    "plt.plot(x, S_0, label='interior S_0')\n",
    "plt.plot(x, S_1, label='outgoing S_1')\n",
    "plt.xlabel('length x [m]')\n",
    "plt.ylabel('salintiy [ppt]')\n",
    "plt.legend(loc='lower right')\n",
    "plt.suptitle('simple plot')\n",
    "plt.subplots_adjust(left=None, bottom=None, right=None, top=None, wspace=0.3, hspace=None)\n",
    "#plt.show()\n",
    "plt.savefig('simpleplot.png', dpi=300, bbox_inches='tight')\n",
    "\n",
    "'''"
   ]
  }
 ],
 "metadata": {
  "kernelspec": {
   "display_name": "Python 3",
   "language": "python",
   "name": "python3"
  },
  "language_info": {
   "codemirror_mode": {
    "name": "ipython",
    "version": 3
   },
   "file_extension": ".py",
   "mimetype": "text/x-python",
   "name": "python",
   "nbconvert_exporter": "python",
   "pygments_lexer": "ipython3",
   "version": "3.7.4"
  }
 },
 "nbformat": 4,
 "nbformat_minor": 2
}
