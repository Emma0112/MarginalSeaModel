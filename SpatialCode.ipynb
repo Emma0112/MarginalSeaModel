{
 "cells": [
  {
   "cell_type": "code",
   "execution_count": 1,
   "metadata": {},
   "outputs": [],
   "source": [
    "import numpy as np  # http://www.numpy.org\n",
    "import matplotlib.pyplot as plt   # http://matplotlib.org\n",
    "import math as M\n",
    "from scipy.optimize import fsolve"
   ]
  },
  {
   "cell_type": "code",
   "execution_count": 2,
   "metadata": {},
   "outputs": [],
   "source": [
    "############ Initilisation #################\n",
    "############################################\n",
    "\n",
    "#### Constants #####\n",
    "L_x = 1e6          # [m] zonal extent \n",
    "L_y = 2e6          # [m] meridional extent \n",
    "A = L_x*L_y        # [m^2] surface area of interior \n",
    "P = 2*L_x+2*L_y    # [m] Perimeter \n",
    "\n",
    "g = 9.81           # [m/s^2] gravitational acceleration \n",
    "C_p = 3.994e3        # [J/(kg K)] specific heat capacity of sea water \n",
    "c = 0.006          # [] bottom slope coefficient\n",
    "s = 0.02           # [] average bottom slope around the perimeter of the marginal sea\n",
    "\n",
    "#### Parameters ####\n",
    "H = 1000           # [m] sill height \n",
    "f_0 = 1.2e-4       # [s^-1] Coriolis parameter \n",
    "Gamma = 20         # [W/(m^2 C)] Restoring strength \n",
    "alpha_T = 0.2      # [kg m^-3 C^-1] thermal expansion coefficient; source: Ypma[2020]\n",
    "alpha_S = 0.8      # [kg m^-3] Haline expansion coefficient \n",
    "#T_1 = 8.87         # [Celsius] ingoing temperature \n",
    "T_A = 2.8          # [Celsius] Atmospheric temperature \n",
    "ro = 1028          # [kg m^-3] density sea water \n",
    "S = 35             # [ppt] net evaporation minus precipitation\n",
    "#S_1 = 35.2         # [g kg^-1] incoming salinity; source Lambert                          ! is ppt = g kg^-1 ???\n",
    "E = -2e-8          # [m/s] a representative ocean salinity; source: Spall[2015]\n",
    "\n",
    "#### functions ####\n",
    "L = H/s           # [m] width of sloping topography of the boundary current \n",
    "#L = 75e3"
   ]
  },
  {
   "cell_type": "code",
   "execution_count": 14,
   "metadata": {},
   "outputs": [
    {
     "data": {
      "text/plain": [
       "(array([ 2.79999631e+00,  2.80000000e+00,  2.79958905e+00,  2.79944763e+00,\n",
       "        -5.44872850e+69,  1.00000000e+00,  0.00000000e+00]),\n",
       " array([ 1.31728110e+09, -6.68330352e+10,  9.50345523e+17,  2.66228990e+82,\n",
       "         1.32642675e+83,  1.00000000e+00,  0.00000000e+00]),\n",
       " array([-1.25193128e+03,  1.68182762e-01,  2.13041766e+01,  7.47118006e-01,\n",
       "         1.00000001e+00,  1.00000000e+00,  1.00000000e+00]),\n",
       " array([ 8.87000000e+00,  2.70829156e+01, -9.84288225e+01, -8.38254000e+05,\n",
       "        -2.22441782e+60,  2.44744664e+70,  1.00000000e+00]),\n",
       " array([ 3.52000000e+01, -1.28738046e+10,  9.50345331e+17,  2.98827731e+83,\n",
       "         1.89309800e+85, -6.53421928e+82,  1.00000000e+00]),\n",
       " array([-1.25193128e+03,  1.68182762e-01,  2.13041766e+01,  7.47118006e-01,\n",
       "         1.00000001e+00,  1.00000000e+00,  1.00000000e+00]))"
      ]
     },
     "execution_count": 14,
     "metadata": {},
     "output_type": "execute_result"
    }
   ],
   "source": [
    "steps=7          # test values\n",
    "dx=10            # test values\n",
    "\n",
    "T_0 = np.zeros(steps)\n",
    "S_0 = np.zeros(steps)\n",
    "V = np.zeros(steps)\n",
    "T_1 = np.zeros(steps)\n",
    "S_1 = np.zeros(steps)\n",
    "\n",
    "T_1[0] = 8.87 \n",
    "S_1[0] = 35.2 \n",
    "\n",
    "for i in range(steps-1):\n",
    "    def main(x): # function with seven unkowns:  T_0,  S_0,    V, T_1+1, S_1+1,  V_+1 \n",
    "                 #                              x[0], x[1], x[2],  x[3],  x[3],  x[5]\n",
    "        return [c*x[2]*(T_1[i]-x[0])-A*Gamma*(x[0]-T_A)/(ro*C_p),\n",
    "                c*x[2]*(T_1[i]-x[0])-A*E*S,\n",
    "                x[3]-x[2]*(T_1[i]-x[0])*c*dx/(H*L)-(2*x[2]*T_1[i]-T_1[i]*x[5])/x[2],\n",
    "                x[5]-x[2]*(T_1[i]-x[0])*c*dx/(H*L)-(2*x[2]*T_1[i]-x[2]*x[3])/T_1[i],\n",
    "                x[3]-x[2]*(S_1[i]-x[1])*c*dx/(H*L)-(2*x[2]*S_1[i]-S_1[i]*x[5])/x[2],\n",
    "                x[5]-x[2]*(S_1[i]-x[1])*c*dx/(H*L)-(2*x[2]*S_1[i]-x[2]*x[3])/S_1[i]]\n",
    "\n",
    "    [T_0[i],S_0[i],V[i],T_1[i+1],S_1[i+1],V[i+1]] = fsolve(main, [1,1,1,1,1,1]) \n",
    "    # V[i] and V[i+1] are calculated at the same time - that's not so good I think\n",
    "    \n",
    "T_0,S_0,V,T_1,S_1,V\n",
    "    "
   ]
  },
  {
   "cell_type": "code",
   "execution_count": 17,
   "metadata": {},
   "outputs": [
    {
     "data": {
      "text/plain": [
       "(array([2.8       , 2.79999999, 2.8       , 2.79999999, 2.79999998,\n",
       "        2.79999997, 0.        ]),\n",
       " array([-7.98562205e+10, -1.27545199e+12, -6.22256913e+13, -8.24463361e+16,\n",
       "         6.31536128e+21, -6.51649048e+23,  0.00000000e+00]),\n",
       " array([ 0.35      ,  1.14805243,  2.29610483,  4.59220995,  9.18440317,\n",
       "        18.35584019, 36.71169414]),\n",
       " array([ 8.87000000e+00, -1.14871396e+01, -2.28778714e-07,  9.88924333e-15,\n",
       "         3.59915139e-20,  5.08111801e-23,  7.41504305e-22]),\n",
       " array([ 3.52000000e+01, -8.95498653e+10,  1.42968988e+12, -1.24531756e+14,\n",
       "         4.93022563e+16,  1.97193768e+22, -2.92749229e+22]),\n",
       " array([ 0.35      ,  1.14805243,  2.29610483,  4.59220995,  9.18440317,\n",
       "        18.35584019, 36.71169414]))"
      ]
     },
     "execution_count": 17,
     "metadata": {},
     "output_type": "execute_result"
    }
   ],
   "source": [
    "# only V[i+1] being calculated - maybe works better?\n",
    "\n",
    "steps=7          # test values\n",
    "dx=10            # test values\n",
    "\n",
    "T_0 = np.zeros(steps)\n",
    "S_0 = np.zeros(steps)\n",
    "V = np.zeros(steps)\n",
    "T_1 = np.zeros(steps)\n",
    "S_1 = np.zeros(steps)\n",
    "\n",
    "T_1[0] = 8.87 \n",
    "S_1[0] = 35.2 \n",
    "V[0] = 0.35\n",
    "\n",
    "for i in range(steps-1):\n",
    "    def main(x): # function with seven unkowns:  T_0,  S_0,  T_1+1, S_1+1,  V_+1 \n",
    "                 #                              x[0], x[1],   V[2],  x[3],  x[4],\n",
    "        return [c*V[i]*(T_1[i]-x[0])-A*Gamma*(x[0]-T_A)/(ro*C_p),\n",
    "                c*V[i]*(T_1[i]-x[0])-A*E*S,\n",
    "                x[2]-V[i]*(T_1[i]-x[0])*c*dx/(H*L)-(2*V[i]*T_1[i]-T_1[i]*x[4])/V[i],\n",
    "                x[4]-V[i]*(T_1[i]-x[0])*c*dx/(H*L)-(2*V[i]*T_1[i]-V[i]*x[2])/T_1[i],\n",
    "                x[2]-V[i]*(S_1[i]-x[1])*c*dx/(H*L)-(2*V[i]*S_1[i]-S_1[i]*x[4])/V[i]]\n",
    "\n",
    "    [T_0[i],S_0[i],T_1[i+1],S_1[i+1],V[i+1]] = fsolve(main, [1,1,1,1,1]) \n",
    "    # V[i] and V[i+1] are calculated at the same time - that's not so good I think\n",
    "T_0,S_0,V,T_1,S_1,V\n",
    "    "
   ]
  },
  {
   "cell_type": "code",
   "execution_count": null,
   "metadata": {},
   "outputs": [],
   "source": []
  }
 ],
 "metadata": {
  "kernelspec": {
   "display_name": "Python 3",
   "language": "python",
   "name": "python3"
  },
  "language_info": {
   "codemirror_mode": {
    "name": "ipython",
    "version": 3
   },
   "file_extension": ".py",
   "mimetype": "text/x-python",
   "name": "python",
   "nbconvert_exporter": "python",
   "pygments_lexer": "ipython3",
   "version": "3.7.4"
  }
 },
 "nbformat": 4,
 "nbformat_minor": 2
}
