{
 "cells": [
  {
   "cell_type": "code",
   "execution_count": null,
   "metadata": {},
   "outputs": [],
   "source": [
    "import numpy as np  # http://www.numpy.org\n",
    "import matplotlib.pyplot as plt   # http://matplotlib.org\n",
    "import math as M\n",
    "from scipy.optimize import fsolve"
   ]
  },
  {
   "cell_type": "code",
   "execution_count": null,
   "metadata": {},
   "outputs": [],
   "source": [
    "############ Initilisation #################\n",
    "############################################\n",
    "\n",
    "#### Constants #####\n",
    "L_x = 1e6          # [m] zonal extent \n",
    "L_y = 2e6          # [m] meridional extent \n",
    "A = L_x*L_y        # [m^2] surface area of interior \n",
    "P = 2*L_x+2*L_y    # [m] Perimeter \n",
    "\n",
    "g = 9.81           # [m/s^2] gravitational acceleration \n",
    "C_p = 3.994e3        # [J/(kg K)] specific heat capacity of sea water \n",
    "c = 0.006          # [] bottom slope coefficient\n",
    "s = 0.02           # [] average bottom slope around the perimeter of the marginal sea\n",
    "\n",
    "#### Parameters ####\n",
    "H = 1000           # [m] sill height \n",
    "f_0 = 1.2e-4       # [s^-1] Coriolis parameter \n",
    "Gamma = 20         # [W/(m^2 C)] Restoring strength \n",
    "alpha_T = 0.2      # [kg m^-3 C^-1] thermal expansion coefficient; source: Ypma[2020]\n",
    "alpha_S = 0.8      # [kg m^-3] Haline expansion coefficient \n",
    "T_1 = 8.87         # [Celsius] ingoing temperature \n",
    "T_A = 2.8          # [Celsius] Atmospheric temperature \n",
    "ro = 1028          # [kg m^-3] density sea water \n",
    "S = 35             # [ppt] net evaporation minus precipitation\n",
    "S_1 = 35.2         # [g kg^-1] incoming salinity; source Lambert                          ! is ppt = g kg^-1 ???\n",
    "E = -2e-8          # [m/s] a representative ocean salinity; source: Spall[2015]\n",
    "\n",
    "#### functions ####\n",
    "L = H/s           # [m] width of sloping topography of the boundary current \n",
    "#L = 75e3"
   ]
  },
  {
   "cell_type": "code",
   "execution_count": null,
   "metadata": {},
   "outputs": [],
   "source": [
    "steps=7          # test values\n",
    "dx=10            # test values\n",
    "\n",
    "T_0=np.zeros(len(steps))\n",
    "S_0=np.zeros(len(steps))\n",
    "V=np.zeros(len(steps))\n",
    "T_1=np.zeros(len(steps))\n",
    "S_1=np.zeros(len(steps))\n",
    "\n",
    "\n",
    "\n",
    "for i in range(steps)\n",
    "\n",
    "    def main(x): # function with seven unkowns:  T_0,  S_0,    V, T_1+1, S_1+1,  V_+1 \n",
    "                 #                              x[0], x[1], x[2],  x[3],  x[3],  x[5]\n",
    "        return [c*x[2]*(T_1[i]-x[0])-A*Gamma*(x[0]-T_A)/(ro*C_p),\n",
    "                c*x[2]*(T_1[i]-x[0])-A*E*S,\n",
    "                x[3]-x[2]*(T_1[i]-x[0])*c*dx/(H*L)-(2*x[2]*T_1[i]-T_1[i]*x[5])/x[2],\n",
    "                x[5]-x[2]*(T_1[i]-x[0])*c*dx/(H*L)-(2*x[2]*T_1[i]-x[2]*x[3])/T_1[i],\n",
    "                x[3]-x[2]*(S_1[i]-x[1])*c*dx/(H*L)-(2*x[2]*S_1[i]-S_1[i]*x[5])/x[2],\n",
    "                x[5]-x[2]*(S_1[i]-x[1])*c*dx/(H*L)-(2*x[2]*S_1[i]-x[2]*x[3])/S_1[i]]\n",
    "\n",
    "    [T_0[i],S_0[i],V[i],T_1[i+1],S_1[i+1],V[i+1]] = fsolve(main, [1,1,1,1,1]) \n",
    "    # V[i] and V[i+1] are calculated at the same time - that's not so good I think"
   ]
  },
  {
   "cell_type": "code",
   "execution_count": null,
   "metadata": {},
   "outputs": [],
   "source": []
  }
 ],
 "metadata": {
  "kernelspec": {
   "display_name": "Python 3",
   "language": "python",
   "name": "python3"
  },
  "language_info": {
   "codemirror_mode": {
    "name": "ipython",
    "version": 3
   },
   "file_extension": ".py",
   "mimetype": "text/x-python",
   "name": "python",
   "nbconvert_exporter": "python",
   "pygments_lexer": "ipython3",
   "version": "3.7.4"
  }
 },
 "nbformat": 4,
 "nbformat_minor": 2
}
