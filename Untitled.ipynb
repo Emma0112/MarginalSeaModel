{
 "cells": [
  {
   "cell_type": "code",
   "execution_count": 34,
   "metadata": {},
   "outputs": [],
   "source": [
    "import numpy as np  # http://www.numpy.org\n",
    "import matplotlib.pyplot as plt   # http://matplotlib.org\n",
    "import math as M  # https://docs.python.org/2/library/math.html\n",
    "from sympy.solvers import solve\n",
    "from sympy import Symbol"
   ]
  },
  {
   "cell_type": "markdown",
   "metadata": {},
   "source": [
    "# Simple model including salinity"
   ]
  },
  {
   "cell_type": "code",
   "execution_count": 35,
   "metadata": {},
   "outputs": [],
   "source": [
    "#### Constants #####\n",
    "L_x = 1000000 #zonal extent [m]\n",
    "L_y = 2000000 #meridional extent [m]\n",
    "A = L_x*L_y #surface area of interior [m^2] Note that the interior is probably smaller than this\n",
    "P = 2*L_x+2*L_y #Perimeter [m]\n",
    "\n",
    "g = 9.81 #gravitational acceleration [m/s^2]\n",
    "C_p = 3994 #specific heat capacity of sea water [J/(kg K)] source: Steffie's paper\n",
    "alpha_T = 0.2 #thermal expansion coefficient [kg m^-3 C^-1] source: Steffie's paper\n",
    "alpha_S = 0.2\n",
    "c = 0.007 #bottom slope coefficient\n",
    "s = 0.02 #average bottom slope around the perimeter of the marginal sea\n",
    "S = 1\n",
    "E = 1\n",
    "S_1 = 1\n",
    "\n",
    "#### Parameters ####\n",
    "H = 1000 #sill height [m]\n",
    "f_0 = 1.2e-4 #Coriolis parameter [s^-1]\n",
    "Gamma = 20 #Restoring strength [W/(m^2 C)]\n",
    "\n",
    "L = H/s #width of sloping topography of the boundary current [m]\n",
    "T_1 = 8.87 #ingoing temperature [Celsius]\n",
    "T_A = 2.8 #Atmospheric temperature [Celsius]\n",
    "ro_0 = 1028  #density sea water [kg m^-3]. Range of 7 to 9 degrees of sea water\n",
    "#h_1 = ... #thickness upper layer [m]\n",
    "\n",
    "#### functions ####\n",
    "epsilon = c*P/L #ratio of heat fluxed into interior by eddies compared to heat flux by advection into the basin in the inflowing boundary current [-]\n",
    "mu = A*Gamma*f_0/(alpha_T*g*C_p*H**2*(T_1-T_A)) #[-]\n",
    "gamma = 8*A*ro_0*f_0*S*alpha_S*E/(g*H**2*alpha_T**2*(T_1-T_A)**2)\n"
   ]
  },
  {
   "cell_type": "code",
   "execution_count": 40,
   "metadata": {},
   "outputs": [
    {
     "name": "stdout",
     "output_type": "stream",
     "text": [
      "-552.280915922532\n"
     ]
    }
   ],
   "source": [
    "#### Two main equations #####\n",
    "\n",
    "x = Symbol('x')\n",
    "\n",
    "#Interior temperature [Celsius]\n",
    "solve(x**2 - M.sqrt(x**2 + gamma/epsilon)*x + 4*mu/epsilon*(x - 1), x)\n",
    "T_0 = T_1 - x * (T_1 - T_A) \n",
    "\n",
    "x=2\n",
    "\n",
    "#Interior salinity [g kg^-1]\n",
    "Delta_S = 0.5*(x + M.sqrt(x**2 + gamma/epsilon)) #Still need to include +/-\n",
    "S_0 = S_1 - Delta_S*alpha_T*(T_1-T_A)/alpha_S\n"
   ]
  },
  {
   "cell_type": "code",
   "execution_count": 6,
   "metadata": {},
   "outputs": [],
   "source": [
    "#### Follow up computations ####\n",
    "\n",
    "#Velocity in boundary current [m/s]\n",
    "V_1 = g*H/(2*ro_0*f_0*L)*(alpha_T*(T_1-T_0) - alpha_S*(S_1-S_0))\n",
    "\n",
    "#Outflowing salinity [g kg^-1]\n",
    "S_out = S_1 + E*A*S_0/(V_1*H*L)\n",
    "\n",
    "#Outflowing temperature [Celsius]\n",
    "T_out = A*Gamma/(ro_0*C_p*V_1*H*L)*(T_0-T_A+P*L/A*(T_1-T_A))\n",
    "\n",
    "#Densities -> not sure they are correct though..\n",
    "ro_1 = ro_0*(1-alpha_T*(T_1-T_0) + alpha_S*(S_1-S_0))\n",
    "ro_1 = ro_0*(1-alpha_T*(T_out-T_0) + alpha_S*(S_out-S_0))\n",
    "\n",
    "#Downwelling/Medidional overturning strength at the sill [m^2/s]\n",
    "W = g*H**2*(ro_1 - ro_out)/(4*ro_0*f_0)"
   ]
  },
  {
   "cell_type": "code",
   "execution_count": null,
   "metadata": {},
   "outputs": [],
   "source": []
  }
 ],
 "metadata": {
  "kernelspec": {
   "display_name": "Python 3",
   "language": "python",
   "name": "python3"
  },
  "language_info": {
   "codemirror_mode": {
    "name": "ipython",
    "version": 3
   },
   "file_extension": ".py",
   "mimetype": "text/x-python",
   "name": "python",
   "nbconvert_exporter": "python",
   "pygments_lexer": "ipython3",
   "version": "3.7.3"
  }
 },
 "nbformat": 4,
 "nbformat_minor": 2
}
