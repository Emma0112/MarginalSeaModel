{
 "cells": [
  {
   "cell_type": "code",
   "execution_count": 2,
   "metadata": {},
   "outputs": [],
   "source": [
    "import numpy as np  # http://www.numpy.org\n",
    "import matplotlib.pyplot as plt   # http://matplotlib.org\n",
    "import math as M\n",
    "from scipy.optimize import fsolve"
   ]
  },
  {
   "cell_type": "markdown",
   "metadata": {},
   "source": [
    "# Simple, conceptual model of marginal sea"
   ]
  },
  {
   "cell_type": "code",
   "execution_count": 21,
   "metadata": {},
   "outputs": [],
   "source": [
    "############ Initilisation #################\n",
    "############################################\n",
    "\n",
    "#### Constants #####\n",
    "L_x = 1e6          # [m] zonal extent \n",
    "L_y = 2e6          # [m] meridional extent \n",
    "A = L_x*L_y        # [m^2] surface area of interior \n",
    "P = 2*L_x+2*L_y    # [m] Perimeter \n",
    "\n",
    "g = 9.81           # [m/s^2] gravitational acceleration \n",
    "C_p = 3.994e3        # [J/(kg K)] specific heat capacity of sea water \n",
    "c = 0.006          # [] bottom slope coefficient\n",
    "s = 0.02           # [] average bottom slope around the perimeter of the marginal sea\n",
    "\n",
    "#### Parameters ####\n",
    "H = 1000           # [m] sill height \n",
    "f_0 = 1.2e-4       # [s^-1] Coriolis parameter \n",
    "Gamma = 20         # [W/(m^2 C)] Restoring strength \n",
    "alpha_T = 0.2      # [kg m^-3 C^-1] thermal expansion coefficient; source: Ypma[2020]\n",
    "alpha_S = 0.8      # [kg m^-3] Haline expansion coefficient \n",
    "T_1 = 8.87         # [Celsius] ingoing temperature \n",
    "T_A = 2.8          # [Celsius] Atmospheric temperature \n",
    "ro = 1000          # [kg m^-3] density sea water \n",
    "S = 35             # [ppt] net evaporation minus precipitation\n",
    "S_1 = 35.2         # [g kg^-1] incoming salinity; source Lambert                          ! is ppt = g kg^-1 ???\n",
    "E = -2e-8          # [m/s] a representative ocean salinity; source: Spall[2015]\n",
    "\n",
    "#### functions ####\n",
    "L = H/s           # [m] width of sloping topography of the boundary current \n",
    "#L = 75e3"
   ]
  },
  {
   "cell_type": "code",
   "execution_count": 22,
   "metadata": {},
   "outputs": [],
   "source": [
    "############# Computation ##################\n",
    "############################################\n",
    "\n",
    "# Main equations\n",
    "\n",
    "def main(x): # function with seven unkowns:  T_0,  T_2,  S_0,  S_2,  V_1, T_eddy, S_eddy \n",
    "             #                              x[0], x[1], x[2], x[3], x[4],   x[5],   x[6]\n",
    "    return [P*H*x[5]-A*Gamma*(x[0]-T_A)/(ro*C_p),\n",
    "            P*H*x[6]+A*E*S,\n",
    "            (T_1-x[1])*x[4]*H*L-(x[0] - T_A + (P*L/A)*(T_1-T_A))*A*Gamma/(ro*C_p),\n",
    "            (S_1-x[3])*x[4]*H*L+E*A*S+P*L*E*S,\n",
    "            g*H/(2*ro*f_0*L)*(alpha_T*(T_1-x[0])-alpha_S*(S_1-x[2]))-x[4],\n",
    "            c*x[4]*(T_1-x[0])-x[5],\n",
    "            c*x[4]*(S_1-x[2])-x[6]]\n",
    "\n",
    "[T_0,T_2,S_0,S_2,V_1,T_eddy,S_eddy] = fsolve(main, [1,1,1,1,1,1,1])"
   ]
  },
  {
   "cell_type": "code",
   "execution_count": 23,
   "metadata": {},
   "outputs": [
    {
     "data": {
      "text/plain": [
       "[6.229528774722218,\n",
       " 6.464130350471608,\n",
       " 35.092372539544435,\n",
       " 35.110884462047224,\n",
       " 0.361328686194978,\n",
       " 0.005724467993193487,\n",
       " 0.00023333333333333333]"
      ]
     },
     "execution_count": 23,
     "metadata": {},
     "output_type": "execute_result"
    }
   ],
   "source": [
    "[T_0,T_2,S_0,S_2,V_1,T_eddy,S_eddy]"
   ]
  },
  {
   "cell_type": "code",
   "execution_count": 48,
   "metadata": {},
   "outputs": [],
   "source": [
    "#### Follow up computations ####\n",
    "\n",
    "#Atmospheric heat flux/meridional heat transport at the sill [W/m^2]\n",
    "Q_star = A*(T_0 - T_A)*Gamma + P*L*Gamma*(T_1-T_A)\n",
    "\n",
    "#Fraction of outflowing waters that include inflowing water [-]\n",
    "Delta = (T_2-T_0)/(T_1-T_0)\n",
    "\n",
    "#Downwelling/Medidional overturning strength at the sill [m^2/s]\n",
    "W = alpha_T*(g*H**2*(T_1-T_0)*(1-Delta))/(4*ro_0*f_0)\n"
   ]
  },
  {
   "cell_type": "code",
   "execution_count": 50,
   "metadata": {},
   "outputs": [
    {
     "name": "stdout",
     "output_type": "stream",
     "text": [
      "V_1= 2.50e-02 , Q_star= 3.64e+13 , W= -2.69e+07\n"
     ]
    }
   ],
   "source": [
    "print('V_1=', \"{:.2e}\".format(V_1), ', Q_star=', \"{:.2e}\".format(Q_star), ', W=', \"{:.2e}\".format(W))"
   ]
  },
  {
   "cell_type": "code",
   "execution_count": null,
   "metadata": {},
   "outputs": [],
   "source": []
  }
 ],
 "metadata": {
  "kernelspec": {
   "display_name": "Python 3",
   "language": "python",
   "name": "python3"
  },
  "language_info": {
   "codemirror_mode": {
    "name": "ipython",
    "version": 3
   },
   "file_extension": ".py",
   "mimetype": "text/x-python",
   "name": "python",
   "nbconvert_exporter": "python",
   "pygments_lexer": "ipython3",
   "version": "3.7.4"
  }
 },
 "nbformat": 4,
 "nbformat_minor": 2
}
