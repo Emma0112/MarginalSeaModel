{
 "cells": [
  {
   "cell_type": "code",
   "execution_count": 1,
   "metadata": {},
   "outputs": [],
   "source": [
    "import numpy as np  # http://www.numpy.org\n",
    "import matplotlib.pyplot as plt   # http://matplotlib.org\n",
    "import math as M"
   ]
  },
  {
   "cell_type": "markdown",
   "metadata": {},
   "source": [
    "# Simple, conceptual model of marginal sea"
   ]
  },
  {
   "cell_type": "code",
   "execution_count": 2,
   "metadata": {},
   "outputs": [],
   "source": [
    "#### Constants #####\n",
    "L_x = 1e6 #zonal extent [m]\n",
    "L_y = 2e6 #meridional extent [m]\n",
    "A = L_x*L_y #surface area of interior [m^2]\n",
    "P = 2*L_x+2*L_y #Perimeter [m]\n",
    "\n",
    "g = 9.81 #gravitational acceleration [m/s^2]\n",
    "C_p = 4.2e3 #specific heat capacity of sea water [J/(kg K)]\n",
    "#alpha = 1e-4 #thermal expansion coefficient [K g m^-3 C^-1] -> page 4846\n",
    "c = 0.006 #bottom slope coefficient\n",
    "s = 0.02 #average bottom slope around the perimeter of the marginal sea\n",
    "\n",
    "#### Parameters ####\n",
    "H = 1000 #sill height [m]\n",
    "f_0 = 1.2e-4#Coriolis parameter [s^-1]\n",
    "Gamma = 20 #Restoring strength [W/(m^2 C)]\n",
    "\n",
    "T_1 = 8.87 #ingoing temperature [Celsius]\n",
    "T_A = 2.8 #Atmospheric temperature [Celsius]\n",
    "ro_0 = 1027 #density sea water [kg m^-3]\n",
    "#h_1 =  #thickness upper layer [m]\n",
    "\n",
    "#### functions ####\n",
    "L = H/s #width of sloping topography of the boundary current [m]\n",
    "epsilon = c*P/L #ratio of heat fluxed into interior by eddies compared to heat flux by advection into the basin in the inflowing boundary current [-]\n",
    "#mu = A*Gamma*f_0/(alpha*g*C_p*H**2*(T_1-T_A)) #[-]\n"
   ]
  },
  {
   "cell_type": "code",
   "execution_count": 3,
   "metadata": {},
   "outputs": [
    {
     "name": "stdout",
     "output_type": "stream",
     "text": [
      "mu/epsilon = 0.15\n",
      "T_1= 8.87 , T_out= 6.573029381034166\n"
     ]
    }
   ],
   "source": [
    "# Since we're not getting acceptable results for T_out and T_0\n",
    "# try to fix some parameters and use values from the literature\n",
    "\n",
    "mu = 0.15*epsilon # value for mu/epsilon retrieved from table 1 in Spall frist row\n",
    "print('mu/epsilon =', mu/epsilon)\n",
    "\n",
    "# calculate temperatures with fixed mu\n",
    "T_0 = T_1 - (mu/epsilon)*(M.sqrt(1+2*epsilon/mu)-1)*(T_1 - T_A)\n",
    "T_out = T_1 - 2*mu*((T_1-T_A)/(T_1-T_0)*(1+P*L/A)-1)*(T_1-T_A)\n",
    "print('T_1=', T_1, ', T_out=', T_out)\n"
   ]
  },
  {
   "cell_type": "code",
   "execution_count": 6,
   "metadata": {},
   "outputs": [
    {
     "name": "stdout",
     "output_type": "stream",
     "text": [
      "alpha= 0.050754577676224044\n"
     ]
    }
   ],
   "source": [
    "# Now that we have workable values for the temperatures \n",
    "# we can try to find values for the paramters that are clearly not working\n",
    "\n",
    "# alpha is clearly incorrect, by fixing W we can check it's value\n",
    "W = 2.32e6\n",
    "Delta = (T_out-T_0)/(T_1-T_0)\n",
    "alpha = W*(4*ro_0*f_0)/(g*H**2*(T_1-T_0)*(1-Delta))\n",
    "print('alpha=', alpha)"
   ]
  },
  {
   "cell_type": "code",
   "execution_count": 11,
   "metadata": {},
   "outputs": [
    {
     "data": {
      "text/plain": [
       "(6.333402634099233, 6.573029381034166)"
      ]
     },
     "execution_count": 11,
     "metadata": {},
     "output_type": "execute_result"
    }
   ],
   "source": [
    "#### Two main equations #####\n",
    "\n",
    "#Interior temperature [Celsius]\n",
    "T_0 = T_1 - (mu/epsilon)*(M.sqrt(1+2*epsilon/mu)-1)*(T_1 - T_A)\n",
    "\n",
    "#Outflowing temperature [Celsius]\n",
    "T_out = T_1 - 2*mu*((T_1-T_A)/(T_1-T_0)*(1+P*L/A)-1)*(T_1-T_A)\n",
    "\n",
    "T_0, T_out"
   ]
  },
  {
   "cell_type": "code",
   "execution_count": 16,
   "metadata": {},
   "outputs": [],
   "source": [
    "#### Follow up computations ####\n",
    "\n",
    "#Velocity in boundary current [m/s]\n",
    "V_1 = alpha*g*H*(T_1-T_0)/(2*ro_0*f_0*L)\n",
    "\n",
    "#effective perimeter [m]\n",
    "#P_e = ... #[m] -> Not sure if we have to use this, and then how to determine it?\n",
    "\n",
    "#Atmospheric heat flux/meridional heat transport at the sill [W/m^2]\n",
    "Q_star = A*(T_0 - T_A)*Gamma + P*L*Gamma*(T_1-T_A)\n",
    "\n",
    "#Fraction of outflowing waters that include inflowing water [-]\n",
    "Delta = (T_out-T_0)/(T_1-T_0)\n",
    "\n",
    "#Downwelling/Medidional overturning strength at the sill [m^2/s]\n",
    "W = alpha*(g*H**2*(T_1-T_0)*(1-Delta))/(4*ro_0*f_0)\n"
   ]
  },
  {
   "cell_type": "code",
   "execution_count": 15,
   "metadata": {},
   "outputs": [
    {
     "name": "stdout",
     "output_type": "stream",
     "text": [
      "V_1= 1.02e-01 , Q_star= 1.78e+14 , W= 2.32e+06\n"
     ]
    }
   ],
   "source": [
    "print('V_1=', \"{:.2e}\".format(V_1), ', Q_star=', \"{:.2e}\".format(Q_star), ', W=', \"{:.2e}\".format(W))"
   ]
  },
  {
   "cell_type": "code",
   "execution_count": null,
   "metadata": {},
   "outputs": [],
   "source": []
  }
 ],
 "metadata": {
  "kernelspec": {
   "display_name": "Python 3",
   "language": "python",
   "name": "python3"
  },
  "language_info": {
   "codemirror_mode": {
    "name": "ipython",
    "version": 3
   },
   "file_extension": ".py",
   "mimetype": "text/x-python",
   "name": "python",
   "nbconvert_exporter": "python",
   "pygments_lexer": "ipython3",
   "version": "3.7.4"
  }
 },
 "nbformat": 4,
 "nbformat_minor": 2
}
