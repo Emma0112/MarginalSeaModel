{
 "cells": [
  {
   "cell_type": "code",
   "execution_count": null,
   "metadata": {},
   "outputs": [],
   "source": [
    "import numpy as np  # http://www.numpy.org\n",
    "import matplotlib.pyplot as plt   # http://matplotlib.org"
   ]
  },
  {
   "cell_type": "markdown",
   "metadata": {},
   "source": [
    "# Simple, conceptual model of marginal sea"
   ]
  },
  {
   "cell_type": "code",
   "execution_count": null,
   "metadata": {},
   "outputs": [],
   "source": [
    "#### Constants #####\n",
    "L_x = 1000000 #zonal extent [m]\n",
    "L_y = 2000000 #meridional extent [m]\n",
    "A = .. #surface area of interior [m^2]\n",
    "P = .. #Perimeter [m]\n",
    "\n",
    "g = 9.81 #gravitational acceleration [m/s^2]\n",
    "C_p = .. #specific heat capacity of sea water [?]\n",
    "alpha = -0.2 #thermal expansion coefficient [K g m^-3 C^-1] -> page 4846\n",
    "c = 0.006 #bottom slope coefficient\n",
    "s = 0.02 #average bottom slope around the perimeter of the marginal sea\n",
    "L = H/s #width of sloping topography of the boundary current [m]\n",
    "\n",
    "#### Parameters ####\n",
    "H = 1000 #sill height [m]\n",
    "f_0 = 1.2*M.pow(10,-4) #Coriolis parameter [s^-1]\n",
    "Gamma = 20 #Restoring strength [W/(m^2 C)]\n",
    "\n",
    "T_1 = 8.87 #ingoing temperature [Celsius]\n",
    "T_A = 2.8 #Atmospheric temperature [Celsius]\n",
    "ro_0 = .. #density sea water [kg m^-3]\n",
    "h_1 = ... #thickness upper layer [m]\n",
    "\n",
    "#### functions ####\n",
    "epsilon = c*P/L #ratio of heat fluxed into interior by eddies compared to heat flux by advection into the basin in the inflowing boundary current [-]\n",
    "mu = A*Gamma*f_0/(alpha*g*C_p*H**2*(T_1-T_A)) #[-]"
   ]
  },
  {
   "cell_type": "code",
   "execution_count": null,
   "metadata": {},
   "outputs": [],
   "source": [
    "#### Two main equations #####\n",
    "\n",
    "#Interior temperature [Celsius]\n",
    "T_0 = T_1 - (mu/epsilon)*(M.sqrt(1+2*epsilon/mu)-1)*(T_1 - T_A)\n",
    "\n",
    "#Outflowing temperature [Celsius]\n",
    "T_out = T_1 - 2*mu*((T_1-T_A)/(T_1-T_0)*(1+P_e*L/A)-1)*(T_1-T_A)\n"
   ]
  },
  {
   "cell_type": "code",
   "execution_count": null,
   "metadata": {},
   "outputs": [],
   "source": [
    "#### Follow up computations ####\n",
    "\n",
    "#Velocity in boundary current [m/s]\n",
    "V_1 = alpha*g*H*(T_1-T_0)/(2*ro_0*f_0*L)\n",
    "\n",
    "#effective perimeter [m]\n",
    "P_e = ... #[m] -> Not sure if we have to use this, and then how to determine it?\n",
    "\n",
    "#Atmospheric heat flux/meridional heat transport at the sill [W/m^2]\n",
    "Q_star = A*(T_0 - T_A)*Gamma + P_e*L*Gamma*(T_1-T_A)\n",
    "\n",
    "\n",
    "#Fraction of outflowing waters that include inflowing water [-]\n",
    "Delta = (T_out-T_0)/(T_1-T_0)\n",
    "\n",
    "#Downwelling/Medidional overturning strength at the sill [m^2/s]\n",
    "W = alpha*g*M.pow(H,2)*(T_1-T_0)/(4*ro_0*f_0)*(1-Delta)"
   ]
  }
 ],
 "metadata": {
  "kernelspec": {
   "display_name": "Python 3",
   "language": "python",
   "name": "python3"
  },
  "language_info": {
   "codemirror_mode": {
    "name": "ipython",
    "version": 3
   },
   "file_extension": ".py",
   "mimetype": "text/x-python",
   "name": "python",
   "nbconvert_exporter": "python",
   "pygments_lexer": "ipython3",
   "version": "3.7.4"
  }
 },
 "nbformat": 4,
 "nbformat_minor": 2
}
